{
 "cells": [
  {
   "cell_type": "markdown",
   "id": "83e29e3e",
   "metadata": {},
   "source": [
    "This notebook is associated with Section 3 (Algebras) of the paper [\"A fundamental non-classical logic\"](https://arxiv.org/abs/2207.06993) by [Wesley H. Holliday](mailto:wesholliday@berkeley.edu).\n",
    "\n",
    "The notebook uses the [Natural Language Toolkit](https://www.nltk.org)'s [interface](https://www.nltk.org/howto/inference.html) to [Prover9/Mace4](https://www.cs.unm.edu/~mccune/prover9/) to verify basic facts about the kinds of negations discussed in Section 3 of the paper.\n",
    "\n",
    "To view the notebook online, type the URL of this notebook (https://github.com/wesholliday/fundamental-logic/blob/main/negation-axioms.ipynb) into the location field at https://nbviewer.org. GitHub's preview of the notebook might not show all the output that was generated."
   ]
  },
  {
   "cell_type": "markdown",
   "id": "f8ed1561",
   "metadata": {},
   "source": [
    "## Outline\n",
    "\n",
    "**1. [Lattice axioms](#1)**\n",
    "\n",
    "**2. [Bounded lattice axioms](#2)**\n",
    "\n",
    "**3. [Negation axioms](#3)**\n",
    "\n",
    "**4. [Lemma 3.2](#4)**\n",
    "\n",
    "**5. [Figure 6](#5)**\n",
    "\n",
    "**6. [Any bounded lattice admits a weak pseudocomplementation](#6)**\n",
    "\n",
    "**7. [Any lattice $L$ with $|L|>2$ admits a precomplementation that is not a protocomplementation](#7)**"
   ]
  },
  {
   "cell_type": "code",
   "execution_count": 101,
   "id": "58c12193",
   "metadata": {},
   "outputs": [],
   "source": [
    "from nltk.test.inference_fixt import setup_module \n",
    "\n",
    "setup_module()\n",
    "\n",
    "from nltk import *\n",
    "from nltk.sem.drt import DrtParser\n",
    "from nltk.sem import logic\n",
    "logic._counter._value = 0\n",
    "\n",
    "from nltk.sem import Expression\n",
    "read_expr = Expression.fromstring"
   ]
  },
  {
   "cell_type": "markdown",
   "id": "b0491d4d",
   "metadata": {},
   "source": [
    "## 1. Lattice axioms<a id='1'></a>"
   ]
  },
  {
   "cell_type": "code",
   "execution_count": 102,
   "id": "3b98ed66",
   "metadata": {},
   "outputs": [],
   "source": [
    "or_id = read_expr('Or(x,x) = x')\n",
    "and_id = read_expr('And(x,x) = x')\n",
    "\n",
    "or_comm = read_expr('Or(x,y) = Or(y,x)')\n",
    "and_comm = read_expr('And(x,y) = And(y,x)')\n",
    "\n",
    "or_assoc = read_expr('Or(x,Or(y,z)) = Or(Or(x,y),z)')\n",
    "and_assoc = read_expr('And(x,And(y,z)) = And(And(x,y),z)')\n",
    "\n",
    "or_absorp = read_expr('Or(x,And(x,y)) = x')\n",
    "and_absorp = read_expr('And(x,Or(x,y)) = x')\n",
    "\n",
    "lattice = [or_id, and_id, or_comm, and_comm, or_assoc, and_assoc, or_absorp, and_absorp]"
   ]
  },
  {
   "cell_type": "code",
   "execution_count": 103,
   "id": "4d4e00d4",
   "metadata": {},
   "outputs": [],
   "source": [
    "#By including a definition of the covering relation,\n",
    "#one can quickly read off Hasse diagrams of lattices from the Mace4 output.\n",
    "cover_def = read_expr('covered_by(x,y) <-> (-(x=y) & x = And(x,y) & -exists z.(-(z=x) & -(z=y) & x = And(x,z) & z = And(z,y)))')"
   ]
  },
  {
   "cell_type": "markdown",
   "id": "7910f045",
   "metadata": {},
   "source": [
    "## 2. Bounded lattice axioms<a id='2'></a>"
   ]
  },
  {
   "cell_type": "code",
   "execution_count": 104,
   "id": "8eed2883",
   "metadata": {},
   "outputs": [],
   "source": [
    "bot = read_expr('Or(x,Bot) = x')\n",
    "top = read_expr('And(x,Top) = x')\n",
    "\n",
    "bounded_lattice = lattice + [bot,top]"
   ]
  },
  {
   "cell_type": "markdown",
   "id": "a4e567b9",
   "metadata": {},
   "source": [
    "## 3. Negation axioms<a id='3'></a>"
   ]
  },
  {
   "cell_type": "code",
   "execution_count": 105,
   "id": "ecc59522",
   "metadata": {},
   "outputs": [],
   "source": [
    "antitone = read_expr('x=And(x,y) -> Not(y)=And(Not(x),Not(y))')\n",
    "\n",
    "top_to_bot = read_expr('Not(Top)=Bot')\n",
    "\n",
    "bot_to_top = read_expr('Not(Bot)=Top')\n",
    "\n",
    "semicomp = read_expr('And(x,Not(x)) = Bot')\n",
    "\n",
    "DNI = read_expr('x=And(x,Not(Not(x)))')\n",
    "\n",
    "bot_to_neg = read_expr('And(x,y) = Bot -> x=And(x,Not(y))')\n",
    "\n",
    "DNE = read_expr('Not(Not(x))=And(Not(Not(x)),x)')\n",
    "\n",
    "LEM = read_expr('Or(x,Not(x)) = Top')"
   ]
  },
  {
   "cell_type": "code",
   "execution_count": 106,
   "id": "e4ec96a0",
   "metadata": {},
   "outputs": [],
   "source": [
    "pseudo = bounded_lattice + [bot_to_neg, semicomp]\n",
    "\n",
    "ortho = bounded_lattice + [antitone, semicomp, LEM, DNI, DNE]\n",
    "\n",
    "protocomp = bounded_lattice + [antitone, semicomp, bot_to_top]\n",
    "\n",
    "precomp = bounded_lattice + [antitone, top_to_bot]\n",
    "\n",
    "weak_pseudo = bounded_lattice + [antitone, semicomp, DNI]\n",
    "\n",
    "ultraweak_pseudo = bounded_lattice + [antitone, DNI, top_to_bot]"
   ]
  },
  {
   "cell_type": "code",
   "execution_count": 107,
   "id": "b9be8070",
   "metadata": {},
   "outputs": [],
   "source": [
    "anti_inflationary = read_expr('-(x=Bot) -> -(x=And(x,Not(x)))')\n",
    "\n",
    "weak_pseudo_ax = read_expr('x=And(x,Not(y)) -> y=And(y,Not(x))')"
   ]
  },
  {
   "cell_type": "markdown",
   "id": "bf679767",
   "metadata": {},
   "source": [
    "# 4. Lemma 3.2<a id='4'></a>"
   ]
  },
  {
   "cell_type": "markdown",
   "id": "dc841eb1",
   "metadata": {},
   "source": [
    "## Lemma 3.2.1"
   ]
  },
  {
   "cell_type": "code",
   "execution_count": 108,
   "id": "738448f6",
   "metadata": {},
   "outputs": [
    {
     "name": "stdout",
     "output_type": "stream",
     "text": [
      "============================== prooftrans ============================\n",
      "Prover9 (64) version 2009-11A, November 2009.\n",
      "Process 18866 was started by halcrow on iMac.local,\n",
      "Fri Jul 15 19:52:27 2022\n",
      "The command was \"/usr/local/bin/prover9/prover9\".\n",
      "============================== end of head ===========================\n",
      "\n",
      "============================== end of input ==========================\n",
      "\n",
      "============================== PROOF =================================\n",
      "\n",
      "% -------- Comments from original proof --------\n",
      "% Proof 1 at 0.00 (+ 0.00) seconds.\n",
      "% Length of proof is 7.\n",
      "% Level of proof is 3.\n",
      "% Maximum clause weight is 6.000.\n",
      "% Given clauses 0.\n",
      "\n",
      "\n",
      "1 x != Bot -> x != And(x,Not(x)).  [goal].\n",
      "2 And(x,Not(x)) = Bot.  [assumption].\n",
      "3 Bot != c1.  [deny(1)].\n",
      "4 c1 != Bot.  [copy(3),flip(a)].\n",
      "5 And(c1,Not(c1)) = c1.  [deny(1)].\n",
      "6 c1 = Bot.  [copy(5),rewrite([2(4)]),flip(a)].\n",
      "7 $F.  [resolve(6,a,4,a)].\n",
      "\n",
      "============================== end of proof ==========================\n"
     ]
    }
   ],
   "source": [
    "goal = anti_inflationary\n",
    "prover = Prover9Command(goal, assumptions = [semicomp])\n",
    "prover.prove()\n",
    "print(prover.proof())"
   ]
  },
  {
   "cell_type": "code",
   "execution_count": 109,
   "id": "dbc5942b",
   "metadata": {},
   "outputs": [
    {
     "name": "stdout",
     "output_type": "stream",
     "text": [
      "============================== prooftrans ============================\n",
      "Prover9 (64) version 2009-11A, November 2009.\n",
      "Process 18868 was started by halcrow on iMac.local,\n",
      "Fri Jul 15 19:52:27 2022\n",
      "The command was \"/usr/local/bin/prover9/prover9\".\n",
      "============================== end of head ===========================\n",
      "\n",
      "============================== end of input ==========================\n",
      "\n",
      "============================== PROOF =================================\n",
      "\n",
      "% -------- Comments from original proof --------\n",
      "% Proof 1 at 0.01 (+ 0.00) seconds.\n",
      "% Length of proof is 16.\n",
      "% Level of proof is 5.\n",
      "% Maximum clause weight is 15.000.\n",
      "% Given clauses 75.\n",
      "\n",
      "\n",
      "1 x = And(x,y) -> Not(y) = And(Not(x),Not(y)).  [assumption].\n",
      "2 x != Bot -> x != And(x,Not(x)).  [assumption].\n",
      "3 And(x,Not(x)) = Bot.  [goal].\n",
      "5 And(x,x) = x.  [assumption].\n",
      "7 And(x,y) = And(y,x).  [assumption].\n",
      "10 And(x,And(y,z)) = And(And(x,y),z).  [assumption].\n",
      "11 And(And(x,y),z) = And(x,And(y,z)).  [copy(10),flip(a)].\n",
      "16 And(x,y) != x | Not(y) = And(Not(x),Not(y)).  [clausify(1)].\n",
      "17 And(x,y) != x | And(Not(x),Not(y)) = Not(y).  [copy(16),flip(b)].\n",
      "18 Bot = x | And(x,Not(x)) != x.  [clausify(2)].\n",
      "19 And(c1,Not(c1)) != Bot.  [deny(3)].\n",
      "26 And(x,And(x,y)) = And(x,y).  [para(5(a,1),11(a,1,1)),flip(a)].\n",
      "42 And(x,y) != y | And(Not(y),Not(x)) = Not(x).  [para(7(a,1),17(a,1))].\n",
      "45 And(c1,And(Not(c1),Not(And(c1,Not(c1))))) != And(c1,Not(c1)).  [ur(18,a,19,a(flip)),rewrite([11(10)])].\n",
      "400 And(Not(x),Not(And(x,y))) = Not(x).  [hyper(42,a,26,a),rewrite([7(4)])].\n",
      "418 $F.  [back_rewrite(45),rewrite([400(9)]),xx(a)].\n",
      "\n",
      "============================== end of proof ==========================\n"
     ]
    }
   ],
   "source": [
    "goal = semicomp\n",
    "prover = Prover9Command(goal, assumptions = bounded_lattice + [antitone,anti_inflationary])\n",
    "prover.prove()\n",
    "print(prover.proof())"
   ]
  },
  {
   "cell_type": "markdown",
   "id": "d8ea139f",
   "metadata": {},
   "source": [
    "## Lemma 3.2.2"
   ]
  },
  {
   "cell_type": "code",
   "execution_count": 110,
   "id": "a7fa4953",
   "metadata": {},
   "outputs": [
    {
     "name": "stdout",
     "output_type": "stream",
     "text": [
      "============================== prooftrans ============================\n",
      "Prover9 (64) version 2009-11A, November 2009.\n",
      "Process 18870 was started by halcrow on iMac.local,\n",
      "Fri Jul 15 19:52:27 2022\n",
      "The command was \"/usr/local/bin/prover9/prover9\".\n",
      "============================== end of head ===========================\n",
      "\n",
      "============================== end of input ==========================\n",
      "\n",
      "============================== PROOF =================================\n",
      "\n",
      "% -------- Comments from original proof --------\n",
      "% Proof 1 at 0.01 (+ 0.00) seconds.\n",
      "% Length of proof is 23.\n",
      "% Level of proof is 6.\n",
      "% Maximum clause weight is 13.000.\n",
      "% Given clauses 57.\n",
      "\n",
      "\n",
      "1 x = And(x,y) -> Not(y) = And(Not(x),Not(y)).  [assumption].\n",
      "2 x = And(x,Not(y)) -> y = And(y,Not(x)).  [goal].\n",
      "5 Or(x,y) = Or(y,x).  [assumption].\n",
      "6 And(x,y) = And(y,x).  [assumption].\n",
      "7 Or(x,Or(y,z)) = Or(Or(x,y),z).  [assumption].\n",
      "8 Or(Or(x,y),z) = Or(x,Or(y,z)).  [copy(7),flip(a)].\n",
      "11 Or(x,And(x,y)) = x.  [assumption].\n",
      "12 And(x,Or(x,y)) = x.  [assumption].\n",
      "15 And(x,y) != x | Not(y) = And(Not(x),Not(y)).  [clausify(1)].\n",
      "16 And(x,y) != x | And(Not(x),Not(y)) = Not(y).  [copy(15),flip(b)].\n",
      "17 x = And(x,Not(Not(x))).  [assumption].\n",
      "18 And(x,Not(Not(x))) = x.  [copy(17),flip(a)].\n",
      "19 And(c1,Not(c2)) = c1.  [deny(2)].\n",
      "20 And(c2,Not(c1)) != c2.  [deny(2)].\n",
      "25 Or(x,Or(y,z)) = Or(y,Or(x,z)).  [para(5(a,1),8(a,1,1)),rewrite([8(2)])].\n",
      "31 Or(x,And(y,x)) = x.  [para(6(a,1),11(a,1,2))].\n",
      "48 And(Not(c1),Not(Not(c2))) = Not(Not(c2)).  [hyper(16,a,19,a)].\n",
      "65 Or(x,Not(Not(x))) = Not(Not(x)).  [para(18(a,1),31(a,1,2)),rewrite([5(3)])].\n",
      "68 And(x,Or(y,Or(x,z))) = x.  [para(25(a,1),12(a,1,2))].\n",
      "129 And(x,Or(y,Not(Not(x)))) = x.  [para(65(a,1),68(a,1,2,2))].\n",
      "201 Or(Not(c1),Not(Not(c2))) = Not(c1).  [para(48(a,1),11(a,1,2))].\n",
      "209 And(c2,Not(c1)) = c2.  [para(201(a,1),129(a,1,2))].\n",
      "210 $F.  [resolve(209,a,20,a)].\n",
      "\n",
      "============================== end of proof ==========================\n"
     ]
    }
   ],
   "source": [
    "goal = weak_pseudo_ax\n",
    "prover = Prover9Command(goal, assumptions = bounded_lattice + [antitone,DNI])\n",
    "prover.prove()\n",
    "print(prover.proof())"
   ]
  },
  {
   "cell_type": "code",
   "execution_count": 111,
   "id": "622b8ab9",
   "metadata": {},
   "outputs": [
    {
     "name": "stdout",
     "output_type": "stream",
     "text": [
      "============================== prooftrans ============================\n",
      "Prover9 (64) version 2009-11A, November 2009.\n",
      "Process 18872 was started by halcrow on iMac.local,\n",
      "Fri Jul 15 19:52:27 2022\n",
      "The command was \"/usr/local/bin/prover9/prover9\".\n",
      "============================== end of head ===========================\n",
      "\n",
      "============================== end of input ==========================\n",
      "\n",
      "============================== PROOF =================================\n",
      "\n",
      "% -------- Comments from original proof --------\n",
      "% Proof 1 at 0.00 (+ 0.00) seconds.\n",
      "% Length of proof is 15.\n",
      "% Level of proof is 5.\n",
      "% Maximum clause weight is 12.000.\n",
      "% Given clauses 40.\n",
      "\n",
      "\n",
      "1 x = And(x,Not(y)) -> y = And(y,Not(x)).  [assumption].\n",
      "2 x = And(x,y) -> Not(y) = And(Not(x),Not(y)).  [goal].\n",
      "4 And(x,x) = x.  [assumption].\n",
      "6 And(x,y) = And(y,x).  [assumption].\n",
      "9 And(x,And(y,z)) = And(And(x,y),z).  [assumption].\n",
      "10 And(And(x,y),z) = And(x,And(y,z)).  [copy(9),flip(a)].\n",
      "15 And(x,Not(y)) != x | And(y,Not(x)) = y.  [clausify(1)].\n",
      "16 And(c1,c2) = c1.  [deny(2)].\n",
      "17 Not(c2) != And(Not(c1),Not(c2)).  [deny(2)].\n",
      "18 And(Not(c1),Not(c2)) != Not(c2).  [copy(17),flip(a)].\n",
      "39 And(x,Not(Not(x))) = x.  [hyper(15,a,4,a)].\n",
      "42 And(c1,And(c2,x)) = And(c1,x).  [para(16(a,1),10(a,1,1)),flip(a)].\n",
      "94 And(c1,Not(Not(c2))) = c1.  [para(39(a,1),42(a,1,2)),rewrite([16(3)]),flip(a)].\n",
      "109 And(Not(c1),Not(c2)) = Not(c2).  [hyper(15,a,94,a),rewrite([6(5)])].\n",
      "110 $F.  [resolve(109,a,18,a)].\n",
      "\n",
      "============================== end of proof ==========================\n"
     ]
    }
   ],
   "source": [
    "goal = antitone\n",
    "prover = Prover9Command(goal, assumptions = bounded_lattice + [weak_pseudo_ax])\n",
    "prover.prove()\n",
    "print(prover.proof())"
   ]
  },
  {
   "cell_type": "code",
   "execution_count": 112,
   "id": "c0599287",
   "metadata": {},
   "outputs": [
    {
     "name": "stdout",
     "output_type": "stream",
     "text": [
      "============================== prooftrans ============================\n",
      "Prover9 (64) version 2009-11A, November 2009.\n",
      "Process 18874 was started by halcrow on iMac.local,\n",
      "Fri Jul 15 19:52:27 2022\n",
      "The command was \"/usr/local/bin/prover9/prover9\".\n",
      "============================== end of head ===========================\n",
      "\n",
      "============================== end of input ==========================\n",
      "\n",
      "============================== PROOF =================================\n",
      "\n",
      "% -------- Comments from original proof --------\n",
      "% Proof 1 at 0.00 (+ 0.00) seconds.\n",
      "% Length of proof is 7.\n",
      "% Level of proof is 3.\n",
      "% Maximum clause weight is 12.000.\n",
      "% Given clauses 11.\n",
      "\n",
      "\n",
      "1 x = And(x,Not(y)) -> y = And(y,Not(x)).  [assumption].\n",
      "2 x = And(x,Not(Not(x))).  [goal].\n",
      "4 And(x,x) = x.  [assumption].\n",
      "15 And(x,Not(y)) != x | And(y,Not(x)) = y.  [clausify(1)].\n",
      "16 And(c1,Not(Not(c1))) != c1.  [deny(2)].\n",
      "37 And(x,Not(Not(x))) = x.  [hyper(15,a,4,a)].\n",
      "38 $F.  [resolve(37,a,16,a)].\n",
      "\n",
      "============================== end of proof ==========================\n"
     ]
    }
   ],
   "source": [
    "goal = DNI\n",
    "prover = Prover9Command(goal, assumptions = bounded_lattice + [weak_pseudo_ax])\n",
    "prover.prove()\n",
    "print(prover.proof())"
   ]
  },
  {
   "cell_type": "markdown",
   "id": "c0a66eb1",
   "metadata": {},
   "source": [
    "## Lemma 3.2.3"
   ]
  },
  {
   "cell_type": "code",
   "execution_count": 113,
   "id": "65063e91",
   "metadata": {},
   "outputs": [
    {
     "name": "stdout",
     "output_type": "stream",
     "text": [
      "============================== prooftrans ============================\n",
      "Prover9 (64) version 2009-11A, November 2009.\n",
      "Process 18876 was started by halcrow on iMac.local,\n",
      "Fri Jul 15 19:52:27 2022\n",
      "The command was \"/usr/local/bin/prover9/prover9\".\n",
      "============================== end of head ===========================\n",
      "\n",
      "============================== end of input ==========================\n",
      "\n",
      "============================== PROOF =================================\n",
      "\n",
      "% -------- Comments from original proof --------\n",
      "% Proof 1 at 0.01 (+ 0.00) seconds.\n",
      "% Length of proof is 33.\n",
      "% Level of proof is 9.\n",
      "% Maximum clause weight is 13.000.\n",
      "% Given clauses 71.\n",
      "\n",
      "\n",
      "1 x = And(x,y) -> Not(y) = And(Not(x),Not(y)).  [assumption].\n",
      "2 Or(x,Not(x)) = Top.  [goal].\n",
      "5 Or(x,y) = Or(y,x).  [assumption].\n",
      "6 And(x,y) = And(y,x).  [assumption].\n",
      "9 And(x,And(y,z)) = And(And(x,y),z).  [assumption].\n",
      "10 And(And(x,y),z) = And(x,And(y,z)).  [copy(9),flip(a)].\n",
      "11 Or(x,And(x,y)) = x.  [assumption].\n",
      "12 And(x,Or(x,y)) = x.  [assumption].\n",
      "13 Or(x,Bot) = x.  [assumption].\n",
      "14 And(x,Top) = x.  [assumption].\n",
      "15 And(x,y) != x | Not(y) = And(Not(x),Not(y)).  [clausify(1)].\n",
      "16 And(x,y) != x | And(Not(x),Not(y)) = Not(y).  [copy(15),flip(b)].\n",
      "17 And(x,Not(x)) = Bot.  [assumption].\n",
      "18 x = And(x,Not(Not(x))).  [assumption].\n",
      "19 And(x,Not(Not(x))) = x.  [copy(18),flip(a)].\n",
      "20 Not(Not(x)) = And(Not(Not(x)),x).  [assumption].\n",
      "21 Not(Not(x)) = x.  [copy(20),rewrite([6(5),19(5)])].\n",
      "22 Or(c1,Not(c1)) != Top.  [deny(2)].\n",
      "37 And(x,Or(y,x)) = x.  [para(5(a,1),12(a,1,2))].\n",
      "41 Or(Bot,x) = x.  [para(13(a,1),5(a,1)),flip(a)].\n",
      "42 And(Top,x) = x.  [para(14(a,1),6(a,1)),flip(a)].\n",
      "44 And(Not(x),Not(Or(x,y))) = Not(Or(x,y)).  [hyper(16,a,12,a)].\n",
      "47 And(x,And(Not(x),y)) = And(Bot,y).  [para(17(a,1),10(a,1,1)),flip(a)].\n",
      "51 And(Bot,x) = Bot.  [para(41(a,1),11(a,1))].\n",
      "52 And(x,And(Not(x),y)) = Bot.  [back_rewrite(47),rewrite([51(5)])].\n",
      "55 Not(Top) = Bot.  [para(42(a,1),17(a,1))].\n",
      "57 Not(Bot) = Top.  [para(55(a,1),21(a,1,1))].\n",
      "77 And(x,And(y,Not(x))) = Bot.  [para(6(a,1),52(a,1,2))].\n",
      "84 And(Not(x),And(y,x)) = Bot.  [para(21(a,1),77(a,1,2,2))].\n",
      "89 And(x,Not(Or(y,x))) = Bot.  [para(37(a,1),84(a,1,2)),rewrite([6(3)])].\n",
      "376 Not(Or(x,Not(x))) = Bot.  [para(44(a,1),89(a,1))].\n",
      "385 Or(x,Not(x)) = Top.  [para(376(a,1),21(a,1,1)),rewrite([57(2)]),flip(a)].\n",
      "386 $F.  [resolve(385,a,22,a)].\n",
      "\n",
      "============================== end of proof ==========================\n"
     ]
    }
   ],
   "source": [
    "goal = LEM\n",
    "prover = Prover9Command(goal, assumptions = weak_pseudo + [DNE])\n",
    "prover.prove()\n",
    "print(prover.proof())"
   ]
  },
  {
   "cell_type": "markdown",
   "id": "a58fa397",
   "metadata": {},
   "source": [
    "# 5. Figure 6<a id='5'></a>"
   ]
  },
  {
   "cell_type": "markdown",
   "id": "afa94e8b",
   "metadata": {},
   "source": [
    "## Protocomplementation"
   ]
  },
  {
   "cell_type": "code",
   "execution_count": 114,
   "id": "deac38da",
   "metadata": {},
   "outputs": [
    {
     "name": "stdout",
     "output_type": "stream",
     "text": [
      "============================== prooftrans ============================\n",
      "Prover9 (64) version 2009-11A, November 2009.\n",
      "Process 18878 was started by halcrow on iMac.local,\n",
      "Fri Jul 15 19:52:27 2022\n",
      "The command was \"/usr/local/bin/prover9/prover9\".\n",
      "============================== end of head ===========================\n",
      "\n",
      "============================== end of input ==========================\n",
      "\n",
      "============================== PROOF =================================\n",
      "\n",
      "% -------- Comments from original proof --------\n",
      "% Proof 1 at 0.00 (+ 0.00) seconds.\n",
      "% Length of proof is 11.\n",
      "% Level of proof is 4.\n",
      "% Maximum clause weight is 13.000.\n",
      "% Given clauses 11.\n",
      "\n",
      "\n",
      "1 x = And(x,y) -> Not(y) = And(Not(x),Not(y)).  [assumption].\n",
      "2 Not(Top) = Bot.  [goal].\n",
      "15 And(x,y) != x | Not(y) = And(Not(x),Not(y)).  [clausify(1)].\n",
      "16 And(x,y) != x | And(Not(x),Not(y)) = Not(y).  [copy(15),flip(b)].\n",
      "17 And(x,Not(x)) = Bot.  [assumption].\n",
      "18 Not(Bot) = Top.  [assumption].\n",
      "19 Top = Not(Bot).  [copy(18),flip(a)].\n",
      "20 Not(Top) != Bot.  [deny(2)].\n",
      "21 Not(Not(Bot)) != Bot.  [copy(20),rewrite([19(1)])].\n",
      "45 Not(Not(Bot)) = Bot.  [hyper(16,a,17,a),rewrite([17(6)]),flip(a)].\n",
      "46 $F.  [resolve(45,a,21,a)].\n",
      "\n",
      "============================== end of proof ==========================\n"
     ]
    }
   ],
   "source": [
    "goal = top_to_bot\n",
    "prover = Prover9Command(goal, assumptions = protocomp)\n",
    "prover.prove()\n",
    "print(prover.proof())"
   ]
  },
  {
   "cell_type": "markdown",
   "id": "2f1f50a3",
   "metadata": {},
   "source": [
    "## Ultraweak pseudocomplementation"
   ]
  },
  {
   "cell_type": "code",
   "execution_count": 115,
   "id": "6706bc59",
   "metadata": {},
   "outputs": [
    {
     "name": "stdout",
     "output_type": "stream",
     "text": [
      "============================== prooftrans ============================\n",
      "Prover9 (64) version 2009-11A, November 2009.\n",
      "Process 18880 was started by halcrow on iMac.local,\n",
      "Fri Jul 15 19:52:27 2022\n",
      "The command was \"/usr/local/bin/prover9/prover9\".\n",
      "============================== end of head ===========================\n",
      "\n",
      "============================== end of input ==========================\n",
      "\n",
      "============================== PROOF =================================\n",
      "\n",
      "% -------- Comments from original proof --------\n",
      "% Proof 1 at 0.00 (+ 0.00) seconds.\n",
      "% Length of proof is 12.\n",
      "% Level of proof is 3.\n",
      "% Maximum clause weight is 7.000.\n",
      "% Given clauses 16.\n",
      "\n",
      "\n",
      "2 Not(Bot) = Top.  [goal].\n",
      "6 And(x,y) = And(y,x).  [assumption].\n",
      "14 And(x,Top) = x.  [assumption].\n",
      "17 x = And(x,Not(Not(x))).  [assumption].\n",
      "18 And(x,Not(Not(x))) = x.  [copy(17),flip(a)].\n",
      "19 Not(Top) = Bot.  [assumption].\n",
      "20 Bot = Not(Top).  [copy(19),flip(a)].\n",
      "21 Not(Bot) != Top.  [deny(2)].\n",
      "22 Not(Not(Top)) != Top.  [copy(21),rewrite([20(1)])].\n",
      "42 And(Top,x) = x.  [para(14(a,1),6(a,1)),flip(a)].\n",
      "55 Not(Not(Top)) = Top.  [para(42(a,1),18(a,1))].\n",
      "56 $F.  [resolve(55,a,22,a)].\n",
      "\n",
      "============================== end of proof ==========================\n"
     ]
    }
   ],
   "source": [
    "goal = bot_to_top\n",
    "prover = Prover9Command(goal, assumptions = ultraweak_pseudo)\n",
    "prover.prove()\n",
    "print(prover.proof())"
   ]
  },
  {
   "cell_type": "code",
   "execution_count": 116,
   "id": "9a224914",
   "metadata": {},
   "outputs": [
    {
     "name": "stdout",
     "output_type": "stream",
     "text": [
      "% number = 1\n",
      "% seconds = 0\n",
      "\n",
      "% Interpretation of size 3\n",
      "\n",
      "Bot = 0.\n",
      "\n",
      "Top = 1.\n",
      "\n",
      "c1 = 2.\n",
      "\n",
      "Not(0) = 1.\n",
      "Not(1) = 0.\n",
      "Not(2) = 2.\n",
      "\n",
      "And(0,0) = 0.\n",
      "And(0,1) = 0.\n",
      "And(0,2) = 0.\n",
      "And(1,0) = 0.\n",
      "And(1,1) = 1.\n",
      "And(1,2) = 2.\n",
      "And(2,0) = 0.\n",
      "And(2,1) = 2.\n",
      "And(2,2) = 2.\n",
      "\n",
      "Or(0,0) = 0.\n",
      "Or(0,1) = 1.\n",
      "Or(0,2) = 2.\n",
      "Or(1,0) = 1.\n",
      "Or(1,1) = 1.\n",
      "Or(1,2) = 1.\n",
      "Or(2,0) = 2.\n",
      "Or(2,1) = 1.\n",
      "Or(2,2) = 2.\n",
      "\n",
      "f1(0,0) = 0.\n",
      "f1(0,1) = 2.\n",
      "f1(0,2) = 0.\n",
      "f1(1,0) = 0.\n",
      "f1(1,1) = 0.\n",
      "f1(1,2) = 0.\n",
      "f1(2,0) = 0.\n",
      "f1(2,1) = 0.\n",
      "f1(2,2) = 0.\n",
      "\n",
      "- covered_by(0,0).\n",
      "- covered_by(0,1).\n",
      "  covered_by(0,2).\n",
      "- covered_by(1,0).\n",
      "- covered_by(1,1).\n",
      "- covered_by(1,2).\n",
      "- covered_by(2,0).\n",
      "  covered_by(2,1).\n",
      "- covered_by(2,2).\n",
      "\n"
     ]
    }
   ],
   "source": [
    "goal = semicomp\n",
    "mb = MaceCommand(goal, assumptions = ultraweak_pseudo + [cover_def])\n",
    "mb.build_model()\n",
    "print(mb.model(format='cooked'))"
   ]
  },
  {
   "cell_type": "markdown",
   "id": "fb5c6c7f",
   "metadata": {},
   "source": [
    "## Weak pseudocomplementation"
   ]
  },
  {
   "cell_type": "code",
   "execution_count": 117,
   "id": "127d7e0b",
   "metadata": {},
   "outputs": [
    {
     "name": "stdout",
     "output_type": "stream",
     "text": [
      "============================== prooftrans ============================\n",
      "Prover9 (64) version 2009-11A, November 2009.\n",
      "Process 18884 was started by halcrow on iMac.local,\n",
      "Fri Jul 15 19:52:27 2022\n",
      "The command was \"/usr/local/bin/prover9/prover9\".\n",
      "============================== end of head ===========================\n",
      "\n",
      "============================== end of input ==========================\n",
      "\n",
      "============================== PROOF =================================\n",
      "\n",
      "% -------- Comments from original proof --------\n",
      "% Proof 1 at 0.00 (+ 0.00) seconds.\n",
      "% Length of proof is 5.\n",
      "% Level of proof is 2.\n",
      "% Maximum clause weight is 4.000.\n",
      "% Given clauses 0.\n",
      "\n",
      "\n",
      "2 Not(Top) = Bot.  [goal].\n",
      "19 Not(Top) = Bot.  [assumption].\n",
      "20 Bot = Not(Top).  [copy(19),flip(a)].\n",
      "21 Not(Top) != Bot.  [deny(2)].\n",
      "22 $F.  [copy(21),rewrite([20(3)]),xx(a)].\n",
      "\n",
      "============================== end of proof ==========================\n"
     ]
    }
   ],
   "source": [
    "goal = top_to_bot\n",
    "prover = Prover9Command(goal, assumptions = ultraweak_pseudo)\n",
    "prover.prove()\n",
    "print(prover.proof())"
   ]
  },
  {
   "cell_type": "code",
   "execution_count": 118,
   "id": "9455dfec",
   "metadata": {},
   "outputs": [
    {
     "name": "stdout",
     "output_type": "stream",
     "text": [
      "============================== prooftrans ============================\n",
      "Prover9 (64) version 2009-11A, November 2009.\n",
      "Process 18886 was started by halcrow on iMac.local,\n",
      "Fri Jul 15 19:52:27 2022\n",
      "The command was \"/usr/local/bin/prover9/prover9\".\n",
      "============================== end of head ===========================\n",
      "\n",
      "============================== end of input ==========================\n",
      "\n",
      "============================== PROOF =================================\n",
      "\n",
      "% -------- Comments from original proof --------\n",
      "% Proof 1 at 0.00 (+ 0.00) seconds.\n",
      "% Length of proof is 12.\n",
      "% Level of proof is 3.\n",
      "% Maximum clause weight is 7.000.\n",
      "% Given clauses 16.\n",
      "\n",
      "\n",
      "2 Not(Bot) = Top.  [goal].\n",
      "6 And(x,y) = And(y,x).  [assumption].\n",
      "14 And(x,Top) = x.  [assumption].\n",
      "17 x = And(x,Not(Not(x))).  [assumption].\n",
      "18 And(x,Not(Not(x))) = x.  [copy(17),flip(a)].\n",
      "19 Not(Top) = Bot.  [assumption].\n",
      "20 Bot = Not(Top).  [copy(19),flip(a)].\n",
      "21 Not(Bot) != Top.  [deny(2)].\n",
      "22 Not(Not(Top)) != Top.  [copy(21),rewrite([20(1)])].\n",
      "42 And(Top,x) = x.  [para(14(a,1),6(a,1)),flip(a)].\n",
      "55 Not(Not(Top)) = Top.  [para(42(a,1),18(a,1))].\n",
      "56 $F.  [resolve(55,a,22,a)].\n",
      "\n",
      "============================== end of proof ==========================\n"
     ]
    }
   ],
   "source": [
    "goal = bot_to_top\n",
    "prover = Prover9Command(goal, assumptions = ultraweak_pseudo)\n",
    "prover.prove()\n",
    "print(prover.proof())"
   ]
  },
  {
   "cell_type": "markdown",
   "id": "b7a71b49",
   "metadata": {},
   "source": [
    "## Pseudocomplementation"
   ]
  },
  {
   "cell_type": "code",
   "execution_count": 119,
   "id": "4bcf1a76",
   "metadata": {},
   "outputs": [
    {
     "name": "stdout",
     "output_type": "stream",
     "text": [
      "============================== prooftrans ============================\n",
      "Prover9 (64) version 2009-11A, November 2009.\n",
      "Process 18888 was started by halcrow on iMac.local,\n",
      "Fri Jul 15 19:52:27 2022\n",
      "The command was \"/usr/local/bin/prover9/prover9\".\n",
      "============================== end of head ===========================\n",
      "\n",
      "============================== end of input ==========================\n",
      "\n",
      "============================== PROOF =================================\n",
      "\n",
      "% -------- Comments from original proof --------\n",
      "% Proof 1 at 0.01 (+ 0.00) seconds.\n",
      "% Length of proof is 24.\n",
      "% Level of proof is 7.\n",
      "% Maximum clause weight is 11.000.\n",
      "% Given clauses 58.\n",
      "\n",
      "\n",
      "1 And(x,y) = Bot -> x = And(x,Not(y)).  [assumption].\n",
      "2 x = And(x,y) -> Not(y) = And(Not(x),Not(y)).  [goal].\n",
      "5 Or(x,y) = Or(y,x).  [assumption].\n",
      "6 And(x,y) = And(y,x).  [assumption].\n",
      "9 And(x,And(y,z)) = And(And(x,y),z).  [assumption].\n",
      "10 And(And(x,y),z) = And(x,And(y,z)).  [copy(9),flip(a)].\n",
      "11 Or(x,And(x,y)) = x.  [assumption].\n",
      "13 Or(x,Bot) = x.  [assumption].\n",
      "15 And(x,y) != Bot | And(x,Not(y)) = x.  [clausify(1)].\n",
      "16 And(x,Not(x)) = Bot.  [assumption].\n",
      "17 And(c1,c2) = c1.  [deny(2)].\n",
      "18 Not(c2) != And(Not(c1),Not(c2)).  [deny(2)].\n",
      "19 And(Not(c1),Not(c2)) != Not(c2).  [copy(18),flip(a)].\n",
      "38 Or(Bot,x) = x.  [para(13(a,1),5(a,1)),flip(a)].\n",
      "46 And(x,Not(Not(x))) = x.  [hyper(15,a,16,a)].\n",
      "47 And(x,And(Not(x),y)) = And(Bot,y).  [para(16(a,1),10(a,1,1)),flip(a)].\n",
      "49 And(c1,And(c2,x)) = And(c1,x).  [para(17(a,1),10(a,1,1)),flip(a)].\n",
      "54 And(Bot,x) = Bot.  [para(38(a,1),11(a,1))].\n",
      "55 And(x,And(Not(x),y)) = Bot.  [back_rewrite(47),rewrite([54(5)])].\n",
      "88 And(x,And(y,Not(x))) = Bot.  [para(6(a,1),55(a,1,2))].\n",
      "90 And(x,Not(And(y,Not(x)))) = x.  [hyper(15,a,88,a)].\n",
      "110 And(c1,Not(Not(c2))) = c1.  [para(46(a,1),49(a,1,2)),rewrite([17(3)]),flip(a)].\n",
      "228 And(Not(c1),Not(c2)) = Not(c2).  [para(110(a,1),90(a,1,2,1)),rewrite([6(5)])].\n",
      "229 $F.  [resolve(228,a,19,a)].\n",
      "\n",
      "============================== end of proof ==========================\n"
     ]
    }
   ],
   "source": [
    "goal = antitone\n",
    "prover = Prover9Command(goal, assumptions = pseudo)\n",
    "prover.prove()\n",
    "print(prover.proof())"
   ]
  },
  {
   "cell_type": "code",
   "execution_count": 120,
   "id": "cea2a1d2",
   "metadata": {},
   "outputs": [
    {
     "name": "stdout",
     "output_type": "stream",
     "text": [
      "============================== prooftrans ============================\n",
      "Prover9 (64) version 2009-11A, November 2009.\n",
      "Process 18890 was started by halcrow on iMac.local,\n",
      "Fri Jul 15 19:52:27 2022\n",
      "The command was \"/usr/local/bin/prover9/prover9\".\n",
      "============================== end of head ===========================\n",
      "\n",
      "============================== end of input ==========================\n",
      "\n",
      "============================== PROOF =================================\n",
      "\n",
      "% -------- Comments from original proof --------\n",
      "% Proof 1 at 0.00 (+ 0.00) seconds.\n",
      "% Length of proof is 8.\n",
      "% Level of proof is 3.\n",
      "% Maximum clause weight is 7.000.\n",
      "% Given clauses 16.\n",
      "\n",
      "\n",
      "2 Not(Top) = Bot.  [goal].\n",
      "6 And(x,y) = And(y,x).  [assumption].\n",
      "14 And(x,Top) = x.  [assumption].\n",
      "16 And(x,Not(x)) = Bot.  [assumption].\n",
      "17 Not(Top) != Bot.  [deny(2)].\n",
      "37 And(Top,x) = x.  [para(14(a,1),6(a,1)),flip(a)].\n",
      "54 Not(Top) = Bot.  [para(37(a,1),16(a,1))].\n",
      "55 $F.  [resolve(54,a,17,a)].\n",
      "\n",
      "============================== end of proof ==========================\n"
     ]
    }
   ],
   "source": [
    "goal = top_to_bot\n",
    "prover = Prover9Command(goal, assumptions = pseudo)\n",
    "prover.prove()\n",
    "print(prover.proof())"
   ]
  },
  {
   "cell_type": "code",
   "execution_count": 121,
   "id": "aaf409a3",
   "metadata": {},
   "outputs": [
    {
     "name": "stdout",
     "output_type": "stream",
     "text": [
      "============================== prooftrans ============================\n",
      "Prover9 (64) version 2009-11A, November 2009.\n",
      "Process 18892 was started by halcrow on iMac.local,\n",
      "Fri Jul 15 19:52:27 2022\n",
      "The command was \"/usr/local/bin/prover9/prover9\".\n",
      "============================== end of head ===========================\n",
      "\n",
      "============================== end of input ==========================\n",
      "\n",
      "============================== PROOF =================================\n",
      "\n",
      "% -------- Comments from original proof --------\n",
      "% Proof 1 at 0.00 (+ 0.00) seconds.\n",
      "% Length of proof is 9.\n",
      "% Level of proof is 3.\n",
      "% Maximum clause weight is 11.000.\n",
      "% Given clauses 16.\n",
      "\n",
      "\n",
      "1 And(x,y) = Bot -> x = And(x,Not(y)).  [assumption].\n",
      "2 Not(Bot) = Top.  [goal].\n",
      "6 And(x,y) = And(y,x).  [assumption].\n",
      "14 And(x,Top) = x.  [assumption].\n",
      "15 And(x,y) != Bot | And(x,Not(y)) = x.  [clausify(1)].\n",
      "17 Not(Bot) != Top.  [deny(2)].\n",
      "37 And(Top,x) = x.  [para(14(a,1),6(a,1)),flip(a)].\n",
      "51 Not(Bot) = Top.  [hyper(15,a,37,a),rewrite([37(4)])].\n",
      "52 $F.  [resolve(51,a,17,a)].\n",
      "\n",
      "============================== end of proof ==========================\n"
     ]
    }
   ],
   "source": [
    "goal = bot_to_top\n",
    "prover = Prover9Command(goal, assumptions = pseudo)\n",
    "prover.prove()\n",
    "print(prover.proof())"
   ]
  },
  {
   "cell_type": "code",
   "execution_count": 122,
   "id": "6f2c65a2",
   "metadata": {},
   "outputs": [
    {
     "name": "stdout",
     "output_type": "stream",
     "text": [
      "============================== prooftrans ============================\n",
      "Prover9 (64) version 2009-11A, November 2009.\n",
      "Process 18894 was started by halcrow on iMac.local,\n",
      "Fri Jul 15 19:52:27 2022\n",
      "The command was \"/usr/local/bin/prover9/prover9\".\n",
      "============================== end of head ===========================\n",
      "\n",
      "============================== end of input ==========================\n",
      "\n",
      "============================== PROOF =================================\n",
      "\n",
      "% -------- Comments from original proof --------\n",
      "% Proof 1 at 0.00 (+ 0.00) seconds.\n",
      "% Length of proof is 7.\n",
      "% Level of proof is 3.\n",
      "% Maximum clause weight is 11.000.\n",
      "% Given clauses 12.\n",
      "\n",
      "\n",
      "1 And(x,y) = Bot -> x = And(x,Not(y)).  [assumption].\n",
      "2 x = And(x,Not(Not(x))).  [goal].\n",
      "15 And(x,y) != Bot | And(x,Not(y)) = x.  [clausify(1)].\n",
      "16 And(x,Not(x)) = Bot.  [assumption].\n",
      "17 And(c1,Not(Not(c1))) != c1.  [deny(2)].\n",
      "44 And(x,Not(Not(x))) = x.  [hyper(15,a,16,a)].\n",
      "45 $F.  [resolve(44,a,17,a)].\n",
      "\n",
      "============================== end of proof ==========================\n"
     ]
    }
   ],
   "source": [
    "goal = DNI\n",
    "prover = Prover9Command(goal, assumptions = pseudo)\n",
    "prover.prove()\n",
    "print(prover.proof())"
   ]
  },
  {
   "cell_type": "markdown",
   "id": "8dba58e6",
   "metadata": {},
   "source": [
    "## Orthocomplementation"
   ]
  },
  {
   "cell_type": "code",
   "execution_count": 123,
   "id": "47585351",
   "metadata": {},
   "outputs": [
    {
     "name": "stdout",
     "output_type": "stream",
     "text": [
      "============================== prooftrans ============================\n",
      "Prover9 (64) version 2009-11A, November 2009.\n",
      "Process 18896 was started by halcrow on iMac.local,\n",
      "Fri Jul 15 19:52:27 2022\n",
      "The command was \"/usr/local/bin/prover9/prover9\".\n",
      "============================== end of head ===========================\n",
      "\n",
      "============================== end of input ==========================\n",
      "\n",
      "============================== PROOF =================================\n",
      "\n",
      "% -------- Comments from original proof --------\n",
      "% Proof 1 at 0.00 (+ 0.00) seconds.\n",
      "% Length of proof is 14.\n",
      "% Level of proof is 4.\n",
      "% Maximum clause weight is 7.000.\n",
      "% Given clauses 18.\n",
      "\n",
      "\n",
      "2 Not(Top) = Bot.  [goal].\n",
      "5 Or(x,y) = Or(y,x).  [assumption].\n",
      "6 And(x,y) = And(y,x).  [assumption].\n",
      "13 Or(x,Bot) = x.  [assumption].\n",
      "18 Or(x,Not(x)) = Top.  [assumption].\n",
      "19 x = And(x,Not(Not(x))).  [assumption].\n",
      "20 And(x,Not(Not(x))) = x.  [copy(19),flip(a)].\n",
      "21 Not(Not(x)) = And(Not(Not(x)),x).  [assumption].\n",
      "22 Not(Not(x)) = x.  [copy(21),rewrite([6(5),20(5)])].\n",
      "23 Not(Top) != Bot.  [deny(2)].\n",
      "42 Or(Bot,x) = x.  [para(13(a,1),5(a,1)),flip(a)].\n",
      "56 Not(Bot) = Top.  [para(42(a,1),18(a,1))].\n",
      "58 Not(Top) = Bot.  [para(56(a,1),22(a,1,1))].\n",
      "59 $F.  [resolve(58,a,23,a)].\n",
      "\n",
      "============================== end of proof ==========================\n"
     ]
    }
   ],
   "source": [
    "goal = top_to_bot\n",
    "prover = Prover9Command(goal, assumptions = ortho)\n",
    "prover.prove()\n",
    "print(prover.proof())"
   ]
  },
  {
   "cell_type": "code",
   "execution_count": 124,
   "id": "a55af5aa",
   "metadata": {},
   "outputs": [
    {
     "name": "stdout",
     "output_type": "stream",
     "text": [
      "============================== prooftrans ============================\n",
      "Prover9 (64) version 2009-11A, November 2009.\n",
      "Process 18898 was started by halcrow on iMac.local,\n",
      "Fri Jul 15 19:52:27 2022\n",
      "The command was \"/usr/local/bin/prover9/prover9\".\n",
      "============================== end of head ===========================\n",
      "\n",
      "============================== end of input ==========================\n",
      "\n",
      "============================== PROOF =================================\n",
      "\n",
      "% -------- Comments from original proof --------\n",
      "% Proof 1 at 0.00 (+ 0.00) seconds.\n",
      "% Length of proof is 8.\n",
      "% Level of proof is 3.\n",
      "% Maximum clause weight is 7.000.\n",
      "% Given clauses 17.\n",
      "\n",
      "\n",
      "2 Not(Bot) = Top.  [goal].\n",
      "5 Or(x,y) = Or(y,x).  [assumption].\n",
      "13 Or(x,Bot) = x.  [assumption].\n",
      "18 Or(x,Not(x)) = Top.  [assumption].\n",
      "23 Not(Bot) != Top.  [deny(2)].\n",
      "42 Or(Bot,x) = x.  [para(13(a,1),5(a,1)),flip(a)].\n",
      "56 Not(Bot) = Top.  [para(42(a,1),18(a,1))].\n",
      "57 $F.  [resolve(56,a,23,a)].\n",
      "\n",
      "============================== end of proof ==========================\n"
     ]
    }
   ],
   "source": [
    "goal = bot_to_top\n",
    "prover = Prover9Command(goal, assumptions = ortho)\n",
    "prover.prove()\n",
    "print(prover.proof())"
   ]
  },
  {
   "cell_type": "code",
   "execution_count": 125,
   "id": "fcab08a6",
   "metadata": {},
   "outputs": [
    {
     "name": "stdout",
     "output_type": "stream",
     "text": [
      "% number = 1\n",
      "% seconds = 0\n",
      "\n",
      "% Interpretation of size 6\n",
      "\n",
      "Bot = 0.\n",
      "\n",
      "Top = 1.\n",
      "\n",
      "c1 = 2.\n",
      "\n",
      "c2 = 4.\n",
      "\n",
      "Not(0) = 1.\n",
      "Not(1) = 0.\n",
      "Not(2) = 3.\n",
      "Not(3) = 2.\n",
      "Not(4) = 5.\n",
      "Not(5) = 4.\n",
      "\n",
      "And(0,0) = 0.\n",
      "And(0,1) = 0.\n",
      "And(0,2) = 0.\n",
      "And(0,3) = 0.\n",
      "And(0,4) = 0.\n",
      "And(0,5) = 0.\n",
      "And(1,0) = 0.\n",
      "And(1,1) = 1.\n",
      "And(1,2) = 2.\n",
      "And(1,3) = 3.\n",
      "And(1,4) = 4.\n",
      "And(1,5) = 5.\n",
      "And(2,0) = 0.\n",
      "And(2,1) = 2.\n",
      "And(2,2) = 2.\n",
      "And(2,3) = 0.\n",
      "And(2,4) = 0.\n",
      "And(2,5) = 0.\n",
      "And(3,0) = 0.\n",
      "And(3,1) = 3.\n",
      "And(3,2) = 0.\n",
      "And(3,3) = 3.\n",
      "And(3,4) = 0.\n",
      "And(3,5) = 0.\n",
      "And(4,0) = 0.\n",
      "And(4,1) = 4.\n",
      "And(4,2) = 0.\n",
      "And(4,3) = 0.\n",
      "And(4,4) = 4.\n",
      "And(4,5) = 0.\n",
      "And(5,0) = 0.\n",
      "And(5,1) = 5.\n",
      "And(5,2) = 0.\n",
      "And(5,3) = 0.\n",
      "And(5,4) = 0.\n",
      "And(5,5) = 5.\n",
      "\n",
      "Or(0,0) = 0.\n",
      "Or(0,1) = 1.\n",
      "Or(0,2) = 2.\n",
      "Or(0,3) = 3.\n",
      "Or(0,4) = 4.\n",
      "Or(0,5) = 5.\n",
      "Or(1,0) = 1.\n",
      "Or(1,1) = 1.\n",
      "Or(1,2) = 1.\n",
      "Or(1,3) = 1.\n",
      "Or(1,4) = 1.\n",
      "Or(1,5) = 1.\n",
      "Or(2,0) = 2.\n",
      "Or(2,1) = 1.\n",
      "Or(2,2) = 2.\n",
      "Or(2,3) = 1.\n",
      "Or(2,4) = 1.\n",
      "Or(2,5) = 1.\n",
      "Or(3,0) = 3.\n",
      "Or(3,1) = 1.\n",
      "Or(3,2) = 1.\n",
      "Or(3,3) = 3.\n",
      "Or(3,4) = 1.\n",
      "Or(3,5) = 1.\n",
      "Or(4,0) = 4.\n",
      "Or(4,1) = 1.\n",
      "Or(4,2) = 1.\n",
      "Or(4,3) = 1.\n",
      "Or(4,4) = 4.\n",
      "Or(4,5) = 1.\n",
      "Or(5,0) = 5.\n",
      "Or(5,1) = 1.\n",
      "Or(5,2) = 1.\n",
      "Or(5,3) = 1.\n",
      "Or(5,4) = 1.\n",
      "Or(5,5) = 5.\n",
      "\n",
      "f1(0,0) = 0.\n",
      "f1(0,1) = 2.\n",
      "f1(0,2) = 0.\n",
      "f1(0,3) = 0.\n",
      "f1(0,4) = 0.\n",
      "f1(0,5) = 0.\n",
      "f1(1,0) = 0.\n",
      "f1(1,1) = 0.\n",
      "f1(1,2) = 0.\n",
      "f1(1,3) = 0.\n",
      "f1(1,4) = 0.\n",
      "f1(1,5) = 0.\n",
      "f1(2,0) = 0.\n",
      "f1(2,1) = 0.\n",
      "f1(2,2) = 0.\n",
      "f1(2,3) = 0.\n",
      "f1(2,4) = 0.\n",
      "f1(2,5) = 0.\n",
      "f1(3,0) = 0.\n",
      "f1(3,1) = 0.\n",
      "f1(3,2) = 0.\n",
      "f1(3,3) = 0.\n",
      "f1(3,4) = 0.\n",
      "f1(3,5) = 0.\n",
      "f1(4,0) = 0.\n",
      "f1(4,1) = 0.\n",
      "f1(4,2) = 0.\n",
      "f1(4,3) = 0.\n",
      "f1(4,4) = 0.\n",
      "f1(4,5) = 0.\n",
      "f1(5,0) = 0.\n",
      "f1(5,1) = 0.\n",
      "f1(5,2) = 0.\n",
      "f1(5,3) = 0.\n",
      "f1(5,4) = 0.\n",
      "f1(5,5) = 0.\n",
      "\n",
      "- covered_by(0,0).\n",
      "- covered_by(0,1).\n",
      "  covered_by(0,2).\n",
      "  covered_by(0,3).\n",
      "  covered_by(0,4).\n",
      "  covered_by(0,5).\n",
      "- covered_by(1,0).\n",
      "- covered_by(1,1).\n",
      "- covered_by(1,2).\n",
      "- covered_by(1,3).\n",
      "- covered_by(1,4).\n",
      "- covered_by(1,5).\n",
      "- covered_by(2,0).\n",
      "  covered_by(2,1).\n",
      "- covered_by(2,2).\n",
      "- covered_by(2,3).\n",
      "- covered_by(2,4).\n",
      "- covered_by(2,5).\n",
      "- covered_by(3,0).\n",
      "  covered_by(3,1).\n",
      "- covered_by(3,2).\n",
      "- covered_by(3,3).\n",
      "- covered_by(3,4).\n",
      "- covered_by(3,5).\n",
      "- covered_by(4,0).\n",
      "  covered_by(4,1).\n",
      "- covered_by(4,2).\n",
      "- covered_by(4,3).\n",
      "- covered_by(4,4).\n",
      "- covered_by(4,5).\n",
      "- covered_by(5,0).\n",
      "  covered_by(5,1).\n",
      "- covered_by(5,2).\n",
      "- covered_by(5,3).\n",
      "- covered_by(5,4).\n",
      "- covered_by(5,5).\n",
      "\n"
     ]
    }
   ],
   "source": [
    "goal = bot_to_neg\n",
    "mb = MaceCommand(goal, assumptions = ortho + [cover_def])\n",
    "mb.build_model()\n",
    "print(mb.model(format='cooked'))"
   ]
  },
  {
   "cell_type": "markdown",
   "id": "b472bbe7",
   "metadata": {},
   "source": [
    "# 6. Any bounded lattice admits a weak pseudocomplementation<a id='6'></a>"
   ]
  },
  {
   "cell_type": "code",
   "execution_count": 126,
   "id": "6274617b",
   "metadata": {},
   "outputs": [],
   "source": [
    "nonbot_to_bot = read_expr('-(x=Bot) -> Not(x)=Bot')"
   ]
  },
  {
   "cell_type": "code",
   "execution_count": 127,
   "id": "c6a9ade3",
   "metadata": {},
   "outputs": [
    {
     "name": "stdout",
     "output_type": "stream",
     "text": [
      "============================== prooftrans ============================\n",
      "Prover9 (64) version 2009-11A, November 2009.\n",
      "Process 18902 was started by halcrow on iMac.local,\n",
      "Fri Jul 15 19:52:27 2022\n",
      "The command was \"/usr/local/bin/prover9/prover9\".\n",
      "============================== end of head ===========================\n",
      "\n",
      "============================== end of input ==========================\n",
      "\n",
      "============================== PROOF =================================\n",
      "\n",
      "% -------- Comments from original proof --------\n",
      "% Proof 1 at 0.00 (+ 0.00) seconds.\n",
      "% Length of proof is 25.\n",
      "% Level of proof is 8.\n",
      "% Maximum clause weight is 11.000.\n",
      "% Given clauses 27.\n",
      "\n",
      "\n",
      "1 x != Bot -> Not(x) = Bot.  [assumption].\n",
      "2 x = And(x,y) -> Not(y) = And(Not(x),Not(y)).  [goal].\n",
      "5 Or(x,y) = Or(y,x).  [assumption].\n",
      "6 And(x,y) = And(y,x).  [assumption].\n",
      "9 And(x,And(y,z)) = And(And(x,y),z).  [assumption].\n",
      "10 And(And(x,y),z) = And(x,And(y,z)).  [copy(9),flip(a)].\n",
      "11 Or(x,And(x,y)) = x.  [assumption].\n",
      "13 Or(x,Bot) = x.  [assumption].\n",
      "14 And(x,Top) = x.  [assumption].\n",
      "15 Not(Bot) = Top.  [assumption].\n",
      "16 Bot = x | Not(x) = Bot.  [clausify(1)].\n",
      "17 And(c1,c2) = c1.  [deny(2)].\n",
      "18 Not(c2) != And(Not(c1),Not(c2)).  [deny(2)].\n",
      "19 And(Not(c1),Not(c2)) != Not(c2).  [copy(18),flip(a)].\n",
      "38 Or(Bot,x) = x.  [para(13(a,1),5(a,1)),flip(a)].\n",
      "39 And(Top,x) = x.  [para(14(a,1),6(a,1)),flip(a)].\n",
      "41 And(c2,And(x,c1)) = And(x,c1).  [para(17(a,1),10(a,2,2)),rewrite([6(4)])].\n",
      "43 c2 = Bot | Not(c2) != And(Bot,Not(c1)).  [para(16(b,1),19(a,1,2)),rewrite([6(7)]),flip(a),flip(b)].\n",
      "47 And(Bot,x) = Bot.  [para(38(a,1),11(a,1))].\n",
      "48 c2 = Bot | Not(c2) != Bot.  [back_rewrite(43),rewrite([47(9)])].\n",
      "69 c2 = Bot.  [resolve(48,b,16,b),flip(b),merge(b)].\n",
      "73 And(x,c1) = Bot.  [back_rewrite(41),rewrite([69(1),47(4)]),flip(a)].\n",
      "75 Not(c1) != Top.  [back_rewrite(19),rewrite([69(3),15(4),6(4),39(4),69(3),15(4)])].\n",
      "76 c1 = Bot.  [back_rewrite(17),rewrite([69(2),6(3),73(3)]),flip(a)].\n",
      "77 $F.  [back_rewrite(75),rewrite([76(1),15(2)]),xx(a)].\n",
      "\n",
      "============================== end of proof ==========================\n"
     ]
    }
   ],
   "source": [
    "goal = antitone\n",
    "prover = Prover9Command(goal, assumptions = bounded_lattice + [bot_to_top, nonbot_to_bot])\n",
    "prover.prove()\n",
    "print(prover.proof())"
   ]
  },
  {
   "cell_type": "code",
   "execution_count": 128,
   "id": "6e2d467a",
   "metadata": {},
   "outputs": [
    {
     "name": "stdout",
     "output_type": "stream",
     "text": [
      "============================== prooftrans ============================\n",
      "Prover9 (64) version 2009-11A, November 2009.\n",
      "Process 18904 was started by halcrow on iMac.local,\n",
      "Fri Jul 15 19:52:27 2022\n",
      "The command was \"/usr/local/bin/prover9/prover9\".\n",
      "============================== end of head ===========================\n",
      "\n",
      "============================== end of input ==========================\n",
      "\n",
      "============================== PROOF =================================\n",
      "\n",
      "% -------- Comments from original proof --------\n",
      "% Proof 1 at 0.00 (+ 0.00) seconds.\n",
      "% Length of proof is 15.\n",
      "% Level of proof is 4.\n",
      "% Maximum clause weight is 8.000.\n",
      "% Given clauses 15.\n",
      "\n",
      "\n",
      "1 x != Bot -> Not(x) = Bot.  [assumption].\n",
      "2 And(x,Not(x)) = Bot.  [goal].\n",
      "5 Or(x,y) = Or(y,x).  [assumption].\n",
      "6 And(x,y) = And(y,x).  [assumption].\n",
      "11 Or(x,And(x,y)) = x.  [assumption].\n",
      "13 Or(x,Bot) = x.  [assumption].\n",
      "14 And(x,Top) = x.  [assumption].\n",
      "15 Not(Bot) = Top.  [assumption].\n",
      "16 Bot = x | Not(x) = Bot.  [clausify(1)].\n",
      "17 And(c1,Not(c1)) != Bot.  [deny(2)].\n",
      "36 Or(Bot,x) = x.  [para(13(a,1),5(a,1)),flip(a)].\n",
      "38 c1 = Bot | And(Bot,c1) != Bot.  [para(16(b,1),17(a,1,2)),rewrite([6(6)]),flip(a)].\n",
      "41 And(Bot,x) = Bot.  [para(36(a,1),11(a,1))].\n",
      "42 c1 = Bot.  [back_rewrite(38),rewrite([41(6)]),xx(b)].\n",
      "43 $F.  [back_rewrite(17),rewrite([42(1),42(2),15(3),14(3)]),xx(a)].\n",
      "\n",
      "============================== end of proof ==========================\n"
     ]
    }
   ],
   "source": [
    "goal = semicomp\n",
    "prover = Prover9Command(goal, assumptions = bounded_lattice + [bot_to_top, nonbot_to_bot])\n",
    "prover.prove()\n",
    "print(prover.proof())"
   ]
  },
  {
   "cell_type": "code",
   "execution_count": 129,
   "id": "af499461",
   "metadata": {},
   "outputs": [
    {
     "name": "stdout",
     "output_type": "stream",
     "text": [
      "============================== prooftrans ============================\n",
      "Prover9 (64) version 2009-11A, November 2009.\n",
      "Process 18906 was started by halcrow on iMac.local,\n",
      "Fri Jul 15 19:52:27 2022\n",
      "The command was \"/usr/local/bin/prover9/prover9\".\n",
      "============================== end of head ===========================\n",
      "\n",
      "============================== end of input ==========================\n",
      "\n",
      "============================== PROOF =================================\n",
      "\n",
      "% -------- Comments from original proof --------\n",
      "% Proof 1 at 0.00 (+ 0.00) seconds.\n",
      "% Length of proof is 12.\n",
      "% Level of proof is 4.\n",
      "% Maximum clause weight is 7.000.\n",
      "% Given clauses 13.\n",
      "\n",
      "\n",
      "1 x != Bot -> Not(x) = Bot.  [assumption].\n",
      "2 x = And(x,Not(Not(x))).  [goal].\n",
      "4 And(x,x) = x.  [assumption].\n",
      "6 And(x,y) = And(y,x).  [assumption].\n",
      "14 And(x,Top) = x.  [assumption].\n",
      "15 Not(Bot) = Top.  [assumption].\n",
      "16 Bot = x | Not(x) = Bot.  [clausify(1)].\n",
      "17 And(c1,Not(Not(c1))) != c1.  [deny(2)].\n",
      "37 And(Top,x) = x.  [para(14(a,1),6(a,1)),flip(a)].\n",
      "38 c1 = Bot.  [para(16(b,1),17(a,1,2,1)),rewrite([15(6),6(6),37(6)]),flip(a),xx(b)].\n",
      "39 Top = Bot.  [para(16(b,1),17(a,1,2)),rewrite([38(2),15(3),38(4),4(6),38(5)]),flip(a),xx(b)].\n",
      "40 $F.  [back_rewrite(17),rewrite([38(1),38(2),15(3),39(2),15(3),39(2),4(3),38(2)]),xx(a)].\n",
      "\n",
      "============================== end of proof ==========================\n"
     ]
    }
   ],
   "source": [
    "goal = DNI\n",
    "prover = Prover9Command(goal, assumptions = bounded_lattice + [bot_to_top, nonbot_to_bot])\n",
    "prover.prove()\n",
    "print(prover.proof())"
   ]
  },
  {
   "cell_type": "code",
   "execution_count": 130,
   "id": "b2400062",
   "metadata": {},
   "outputs": [
    {
     "name": "stdout",
     "output_type": "stream",
     "text": [
      "============================== prooftrans ============================\n",
      "Prover9 (64) version 2009-11A, November 2009.\n",
      "Process 18908 was started by halcrow on iMac.local,\n",
      "Fri Jul 15 19:52:27 2022\n",
      "The command was \"/usr/local/bin/prover9/prover9\".\n",
      "============================== end of head ===========================\n",
      "\n",
      "============================== end of input ==========================\n",
      "\n",
      "============================== PROOF =================================\n",
      "\n",
      "% -------- Comments from original proof --------\n",
      "% Proof 1 at 0.00 (+ 0.00) seconds.\n",
      "% Length of proof is 20.\n",
      "% Level of proof is 5.\n",
      "% Maximum clause weight is 13.000.\n",
      "% Given clauses 23.\n",
      "\n",
      "\n",
      "1 And(x,y) = Bot -> x = And(x,Not(y)).  [assumption].\n",
      "2 x != Bot -> Not(x) = Bot.  [assumption].\n",
      "3 c != Bot & d != Bot & c != d & And(c,d) = Bot.  [assumption].\n",
      "6 And(x,x) = x.  [assumption].\n",
      "8 And(x,y) = And(y,x).  [assumption].\n",
      "11 And(x,And(y,z)) = And(And(x,y),z).  [assumption].\n",
      "12 And(And(x,y),z) = And(x,And(y,z)).  [copy(11),flip(a)].\n",
      "25 And(x,y) != Bot | And(x,Not(y)) = x.  [clausify(1)].\n",
      "28 Bot = x | Not(x) = Bot.  [clausify(2)].\n",
      "29 c != Bot.  [clausify(3)].\n",
      "30 d != Bot.  [clausify(3)].\n",
      "32 And(c,d) = Bot.  [clausify(3)].\n",
      "33 Bot = And(c,d).  [copy(32),flip(a)].\n",
      "34 And(c,d) != d.  [back_rewrite(30),rewrite([33(2)]),flip(a)].\n",
      "35 And(c,d) != c.  [back_rewrite(29),rewrite([33(2)]),flip(a)].\n",
      "36 And(c,d) = x | Not(x) = And(c,d).  [back_rewrite(28),rewrite([33(1),33(6)])].\n",
      "39 And(c,d) != And(x,y) | And(x,Not(y)) = x.  [back_rewrite(25),rewrite([33(2)]),flip(a)].\n",
      "48 And(x,And(y,x)) = And(y,x).  [para(6(a,1),12(a,2,2)),rewrite([8(2)])].\n",
      "63 And(d,Not(c)) = d.  [resolve(39,a,8,a)].\n",
      "82 $F.  [para(36(b,1),63(a,1,2)),rewrite([48(10)]),unit_del(a,35),unit_del(b,34)].\n",
      "\n",
      "============================== end of proof ==========================\n"
     ]
    }
   ],
   "source": [
    "# If there are two nonzero elements with nonzero meet, then\n",
    "# the weak pseudocomplementation above is not a pseudocomplementation\n",
    "\n",
    "two_nonzero = read_expr('-(c=Bot) & -(d=Bot) & -(c=d) & And(c,d)=Bot')\n",
    "\n",
    "goal = read_expr('-(0=0)')\n",
    "prover = Prover9Command(goal, assumptions = bounded_lattice + pseudo + [bot_to_top, nonbot_to_bot, two_nonzero])\n",
    "prover.prove()\n",
    "print(prover.proof())"
   ]
  },
  {
   "cell_type": "markdown",
   "id": "4d8da31d",
   "metadata": {},
   "source": [
    "# 7. Any lattice $L$ with $|L|>2$ admits a precomplementation that is not a protocomplementation<a id='7'></a>\n",
    "\n"
   ]
  },
  {
   "cell_type": "code",
   "execution_count": 131,
   "id": "55434a13",
   "metadata": {},
   "outputs": [],
   "source": [
    "nontop_to_top = read_expr('-(x=Top) -> Not(x)=Top')"
   ]
  },
  {
   "cell_type": "code",
   "execution_count": 132,
   "id": "2ba404d6",
   "metadata": {},
   "outputs": [
    {
     "name": "stdout",
     "output_type": "stream",
     "text": [
      "============================== prooftrans ============================\n",
      "Prover9 (64) version 2009-11A, November 2009.\n",
      "Process 18912 was started by halcrow on iMac.local,\n",
      "Fri Jul 15 19:52:27 2022\n",
      "The command was \"/usr/local/bin/prover9/prover9\".\n",
      "============================== end of head ===========================\n",
      "\n",
      "============================== end of input ==========================\n",
      "\n",
      "============================== PROOF =================================\n",
      "\n",
      "% -------- Comments from original proof --------\n",
      "% Proof 1 at 0.00 (+ 0.00) seconds.\n",
      "% Length of proof is 15.\n",
      "% Level of proof is 5.\n",
      "% Maximum clause weight is 8.000.\n",
      "% Given clauses 14.\n",
      "\n",
      "\n",
      "1 x != Top -> Not(x) = Top.  [assumption].\n",
      "2 x = And(x,y) -> Not(y) = And(Not(x),Not(y)).  [goal].\n",
      "4 And(x,x) = x.  [assumption].\n",
      "6 And(x,y) = And(y,x).  [assumption].\n",
      "14 And(x,Top) = x.  [assumption].\n",
      "15 Not(Top) = Bot.  [assumption].\n",
      "16 Top = x | Not(x) = Top.  [clausify(1)].\n",
      "17 And(c1,c2) = c1.  [deny(2)].\n",
      "18 Not(c2) != And(Not(c1),Not(c2)).  [deny(2)].\n",
      "19 And(Not(c1),Not(c2)) != Not(c2).  [copy(18),flip(a)].\n",
      "39 And(Top,x) = x.  [para(14(a,1),6(a,1)),flip(a)].\n",
      "42 c1 = Top.  [para(16(b,1),19(a,1,1)),rewrite([39(7)]),flip(a),xx(b)].\n",
      "46 And(Bot,Not(c2)) != Not(c2).  [back_rewrite(19),rewrite([42(1),15(2)])].\n",
      "47 c2 = Top.  [back_rewrite(17),rewrite([42(1),39(3),42(2)])].\n",
      "48 $F.  [back_rewrite(46),rewrite([47(2),15(3),4(3),47(2),15(3)]),xx(a)].\n",
      "\n",
      "============================== end of proof ==========================\n"
     ]
    }
   ],
   "source": [
    "goal = antitone\n",
    "prover = Prover9Command(goal, assumptions = bounded_lattice + [top_to_bot, nontop_to_top])\n",
    "prover.prove()\n",
    "print(prover.proof())"
   ]
  },
  {
   "cell_type": "code",
   "execution_count": 133,
   "id": "a8f6944a",
   "metadata": {},
   "outputs": [
    {
     "name": "stdout",
     "output_type": "stream",
     "text": [
      "============================== prooftrans ============================\n",
      "Prover9 (64) version 2009-11A, November 2009.\n",
      "Process 18914 was started by halcrow on iMac.local,\n",
      "Fri Jul 15 19:52:28 2022\n",
      "The command was \"/usr/local/bin/prover9/prover9\".\n",
      "============================== end of head ===========================\n",
      "\n",
      "============================== end of input ==========================\n",
      "\n",
      "============================== PROOF =================================\n",
      "\n",
      "% -------- Comments from original proof --------\n",
      "% Proof 1 at 0.00 (+ 0.00) seconds.\n",
      "% Length of proof is 9.\n",
      "% Level of proof is 3.\n",
      "% Maximum clause weight is 7.000.\n",
      "% Given clauses 26.\n",
      "\n",
      "\n",
      "2 x != Top -> Not(x) = Top.  [assumption].\n",
      "3 c != Top & c != Bot.  [assumption].\n",
      "16 And(x,Top) = x.  [assumption].\n",
      "27 And(x,Not(x)) = Bot.  [assumption].\n",
      "30 Top = x | Not(x) = Top.  [clausify(2)].\n",
      "31 c != Top.  [clausify(3)].\n",
      "32 c != Bot.  [clausify(3)].\n",
      "60 Top = x | Bot = x.  [para(30(b,1),27(a,1,2)),rewrite([16(4)]),flip(b)].\n",
      "72 $F.  [resolve(60,b,32,a(flip)),flip(a),unit_del(a,31)].\n",
      "\n",
      "============================== end of proof ==========================\n"
     ]
    }
   ],
   "source": [
    "more_than_two = read_expr('-(c=Top) & -(c=Bot) ')\n",
    "\n",
    "goal = read_expr('-(0=0)')\n",
    "prover = Prover9Command(goal, assumptions = bounded_lattice + protocomp + [top_to_bot, nontop_to_top, more_than_two])\n",
    "prover.prove()\n",
    "print(prover.proof())"
   ]
  }
 ],
 "metadata": {
  "kernelspec": {
   "display_name": "Python 3.9.9 64-bit",
   "language": "python",
   "name": "python3"
  },
  "language_info": {
   "codemirror_mode": {
    "name": "ipython",
    "version": 3
   },
   "file_extension": ".py",
   "mimetype": "text/x-python",
   "name": "python",
   "nbconvert_exporter": "python",
   "pygments_lexer": "ipython3",
   "version": "3.9.9"
  },
  "vscode": {
   "interpreter": {
    "hash": "b0fa6594d8f4cbf19f97940f81e996739fb7646882a419484c72d19e05852a7e"
   }
  }
 },
 "nbformat": 4,
 "nbformat_minor": 5
}
