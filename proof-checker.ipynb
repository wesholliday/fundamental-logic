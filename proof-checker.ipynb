{
 "cells": [
  {
   "cell_type": "markdown",
   "id": "59930535",
   "metadata": {},
   "source": [
    "This notebook implements a proof checker for the Fitch-style proof system for propositional logic defined in Section 2 of [\"A fundamental non-classical logic\"](https://arxiv.org/abs/2207.06993) by [Wesley H. Holliday](mailto:wesholliday@berkeley.edu)."
   ]
  },
  {
   "cell_type": "markdown",
   "id": "d6060d04",
   "metadata": {},
   "source": [
    "# Well-formed formulas"
   ]
  },
  {
   "cell_type": "markdown",
   "id": "c255997a",
   "metadata": {},
   "source": [
    "Formulas are strings. We use single characters for propositional variables, ^ for conjunction, v for disjunction, ~ for negation, and parentheses for parentheses."
   ]
  },
  {
   "cell_type": "code",
   "execution_count": 953,
   "id": "626b9260",
   "metadata": {},
   "outputs": [],
   "source": [
    "def wff(s):\n",
    "    \"\"\"\n",
    "    Checks whether the string s is a well-formed formula and\n",
    "    return the main connective (or 'prop' if s is a propositional variable)\n",
    "    \"\"\"\n",
    "\n",
    "    if not type(s) is str:\n",
    "        return False\n",
    "\n",
    "    s = s.replace(\" \", \"\")\n",
    "        \n",
    "    if len(s) == 1 and not s[0] in \"()~^v\":\n",
    "        return True, \"prop\"\n",
    "\n",
    "    if s.startswith(\"~\"):\n",
    "        sminus = s.removeprefix(\"~\")\n",
    "        if wff(sminus):\n",
    "            return True, \"~\"\n",
    "\n",
    "    if s.startswith(\"(\"):\n",
    "            \n",
    "        leftparen = 0\n",
    "        rightparen = 0\n",
    "        slength = len(s)\n",
    "\n",
    "        for n in range(slength):\n",
    "\n",
    "            if s[n] == \"(\":\n",
    "                leftparen +=1\n",
    "\n",
    "            if s[n] == \")\":\n",
    "                rightparen +=1\n",
    "\n",
    "            if leftparen - rightparen == 1:\n",
    "                \n",
    "                if s[n] == \"^\" and wff(s[1:n]) and wff(s[n+1:-1]):\n",
    "                    return True, \"^\"\n",
    "\n",
    "                if s[n] == \"v\" and wff(s[1:n]) and wff(s[n+1:-1]):\n",
    "                    return True, \"v\"\n",
    "\n",
    "    return False"
   ]
  },
  {
   "cell_type": "code",
   "execution_count": 954,
   "id": "6213d65d",
   "metadata": {},
   "outputs": [
    {
     "data": {
      "text/plain": [
       "(True, '^')"
      ]
     },
     "execution_count": 954,
     "metadata": {},
     "output_type": "execute_result"
    }
   ],
   "source": [
    "wff(\"(p ^ (q ^ (r v s)))\")"
   ]
  },
  {
   "cell_type": "code",
   "execution_count": 955,
   "id": "04ae3ce8",
   "metadata": {},
   "outputs": [
    {
     "data": {
      "text/plain": [
       "False"
      ]
     },
     "execution_count": 955,
     "metadata": {},
     "output_type": "execute_result"
    }
   ],
   "source": [
    "wff(\"(pp ^ (q ^ (r v s)))\")"
   ]
  },
  {
   "cell_type": "code",
   "execution_count": 956,
   "id": "975d8dc5",
   "metadata": {},
   "outputs": [
    {
     "data": {
      "text/plain": [
       "(True, '~')"
      ]
     },
     "execution_count": 956,
     "metadata": {},
     "output_type": "execute_result"
    }
   ],
   "source": [
    "wff(\"~~(p v ~(q ^ r))\")"
   ]
  },
  {
   "cell_type": "code",
   "execution_count": 957,
   "id": "7a72e249",
   "metadata": {},
   "outputs": [
    {
     "data": {
      "text/plain": [
       "False"
      ]
     },
     "execution_count": 957,
     "metadata": {},
     "output_type": "execute_result"
    }
   ],
   "source": [
    "wff(\"~(~(p v ~(q ^ r))\")"
   ]
  },
  {
   "cell_type": "markdown",
   "id": "a2a0cb9d",
   "metadata": {},
   "source": [
    "# Fitch-style proofs"
   ]
  },
  {
   "cell_type": "markdown",
   "id": "9b04ed0f",
   "metadata": {},
   "source": [
    "A Fitch-style proof is a list of formulas and possibly other proofs, defined inductively in Section 2 of the paper."
   ]
  },
  {
   "cell_type": "code",
   "execution_count": 958,
   "id": "bc5f195b",
   "metadata": {},
   "outputs": [],
   "source": [
    "def nospaces(p):\n",
    "    newp = []\n",
    "    for x in p:\n",
    "        if type(x) is str:\n",
    "            x = x.replace(\" \",\"\")\n",
    "        if type(x) is list:\n",
    "            x = nospaces(x)\n",
    "        newp.append(x)\n",
    "    return newp"
   ]
  },
  {
   "cell_type": "code",
   "execution_count": 959,
   "id": "7a9fe43a",
   "metadata": {},
   "outputs": [
    {
     "data": {
      "text/plain": [
       "['((p^q)v(r^s))', ['(p^q)', 'p', '(pvr)'], ['(r^s)', 'r', '(pvr)'], '(pvr)']"
      ]
     },
     "execution_count": 959,
     "metadata": {},
     "output_type": "execute_result"
    }
   ],
   "source": [
    "nospaces([\"((p ^ q) v (r ^ s))\", [\"(p ^ q)\", \"p\", \"(p v r)\"], [\"(r ^ s)\", \"r\", \"(p v r)\"], \"(p v r)\"])"
   ]
  },
  {
   "cell_type": "markdown",
   "id": "f55d98ba",
   "metadata": {},
   "source": [
    "To check whether p is a proof of \"fundamental logic\", run the following proof function on p.\n",
    "\n",
    "For orthologic, set RAA = True.\n",
    "\n",
    "For intuitionistic logic, set Reit = True.\n",
    "\n",
    "For classical logic, set RAA = True and Reit = True.\n",
    "\n",
    "For the \"minimal\" version of fundamental logic (cf. Johansson's minimal logic) in Theorem 4.23.4 of the paper, set Explosion = False."
   ]
  },
  {
   "cell_type": "code",
   "execution_count": 960,
   "id": "5ef219e7",
   "metadata": {},
   "outputs": [],
   "source": [
    "def proof(p, RAA = None, Reit = None, reiterables = None, Explosion = None):\n",
    "    \"\"\"\n",
    "    Checks whether the list p is a proof according to Section 2 of the paper;\n",
    "    set RAA/Reit to True to allow the use of Reductio ad Absurdum/Reiteration;\n",
    "    set Explosion to False for the \"minimal\" version of the fundamental logic.\n",
    "    \"\"\"\n",
    "    p = nospaces(p)\n",
    "\n",
    "    if RAA == None:\n",
    "        RAA = False \n",
    "\n",
    "    if Reit == None:\n",
    "        Reit = False \n",
    "\n",
    "    if reiterables == None:\n",
    "        reiterables = []\n",
    "\n",
    "    if Explosion == None:\n",
    "        Explosion = True\n",
    "\n",
    "    _proof(p, RAA, Reit, reiterables, Explosion)\n",
    "        \n",
    "def _proof(p, RAA, Reit, reiterables, Explosion):\n",
    "    \n",
    "    if not type(p) is list:\n",
    "        print(\"A proof must be a list.\")\n",
    "        return False\n",
    "\n",
    "    for x in p:\n",
    "        if type(x) is str and not wff(x):\n",
    "            print(f\"{x} is not a well-formed formula.\")\n",
    "            return False\n",
    "\n",
    "    # We regard a sequence consisting of one formula as a proof whose conclusion is its assumption.\n",
    "    if len(p) == 1 and type(p[0]) is str: \n",
    "        print(f\"{p} is a proof with assumption = conclusion.\")\n",
    "        return True\n",
    "\n",
    "    if len(p) > 1:\n",
    "        \n",
    "        last = p[-1] \n",
    "        p_before_last = p[:-1] \n",
    "        \n",
    "        if not _proof(p_before_last, RAA, Reit, reiterables, Explosion):\n",
    "            if Reit == False:\n",
    "                print(f\"{p} is not a proof.\")\n",
    "            else:\n",
    "                print(f\"{p} is not a proof given reiterables = {reiterables}.\")\n",
    "            return False\n",
    "\n",
    "        newreiterables = reiterables + [s for s in p_before_last if type(s) is str]\n",
    "        \n",
    "        if type(last) is list and _proof(last, RAA, Reit, newreiterables, Explosion):\n",
    "            if Reit == False:\n",
    "                print(f\"{p} is a proof ending with a subproof.\")\n",
    "            else:\n",
    "                print(f\"{p} is a proof ending with a subproof given reiterables = {reiterables}.\")\n",
    "            return True\n",
    "\n",
    "        if type(last) is str:\n",
    "            if Reit == True and last in reiterables:\n",
    "                print(f\"{p} is a proof ending with Reiteration given reiterables = {reiterables}.\")\n",
    "                return True\n",
    "\n",
    "            # We now search for a premise x from which last could be inferred by a rule\n",
    "            for x in p_before_last:\n",
    "                if type(x) is str:\n",
    "\n",
    "                    if x.startswith(\"(\" + last + \"^\"):\n",
    "                        if Reit == False:\n",
    "                            print(f\"{p} is a proof ending with ^ Elim (left).\")\n",
    "                        else:\n",
    "                            print(f\"{p} is a proof ending with ^ Elim (left) given reiterables = {reiterables}.\")\n",
    "                        return True\n",
    "\n",
    "                    if x.endswith(\"^\" + last + \")\"):\n",
    "                        if Reit == False:\n",
    "                            print(f\"{p} is a proof ending with ^ Elim (right).\")\n",
    "                        else:\n",
    "                            print(f\"{p} is a proof ending with ^ Elim (right) given reiterables = {reiterables}.\")\n",
    "                        return True\n",
    "\n",
    "                    if last.startswith(\"(\" + x + \"v\"):\n",
    "                        if Reit == False:\n",
    "                            print(f\"{p} is a proof ending with v Intro (right).\")\n",
    "                        else:\n",
    "                            print(f\"{p} is a proof ending with v Intro (right) given reiterables = {reiterables}.\")\n",
    "                        return True\n",
    "        \n",
    "                    if last.endswith(\"v\" + x + \")\"):\n",
    "                        if Reit == False:\n",
    "                            print(f\"{p} is a proof ending with v Intro (left).\")\n",
    "                        else:\n",
    "                            print(f\"{p} is a proof ending with v Intro (left) given reiterables = {reiterables}.\")\n",
    "                        return True\n",
    "\n",
    "                    # ^ Intro and ~ Elim have two premises, so we search for a second premise y\n",
    "                    for y in p_before_last:\n",
    "                        if type(y) is str and not x == y:\n",
    "\n",
    "                            if last == \"(\" + x + \"^\" + y + \")\":\n",
    "                                if Reit == False:\n",
    "                                    print(f\"{p} is a proof ending with ^ Intro.\")\n",
    "                                else:\n",
    "                                    print(f\"{p} is a proof ending with ^ Intro given reiterables = {reiterables}\")\n",
    "                                return True\n",
    "\n",
    "                            if Explosion == True and x == \"~\" + y:\n",
    "                                if Reit == False:\n",
    "                                    print(f\"{p} is a proof ending with ~ Elim.\") \n",
    "                                if Reit == True:\n",
    "                                    print(f\"{p} is a proof ending with ~ Elim given reiterables = {reiterables}.\")\n",
    "                                return True\n",
    "\n",
    "            # The only remaining possibility is that the penultimate item in p is a subproof, \n",
    "            # in which case last could be obtained by ~ Intro (or RAA if permitted) or v Elim.\n",
    "            penultimate = p_before_last[-1] \n",
    "\n",
    "            if type(penultimate) is list:\n",
    "                \n",
    "                p_before_penultimate = p_before_last[:-1]\n",
    "                subproof_assumption = penultimate[0]\n",
    "                subproof_conclusion = penultimate[-1]\n",
    "\n",
    "                if type(subproof_assumption) is str and type(subproof_conclusion) is str:\n",
    "                    if subproof_assumption == last.removeprefix(\"~\"):\n",
    "                        for x in p_before_penultimate:\n",
    "                            if type(x) is str:\n",
    "                                if subproof_conclusion == \"~\" + x or x == \"~\" + subproof_conclusion:\n",
    "                                    if Reit == False:\n",
    "                                        print(f\"{p} is a proof ending with ~ Intro.\")\n",
    "                                    else:\n",
    "                                        print(f\"{p} is a proof ending with ~ Intro given reiterables = {reiterables}.\")\n",
    "                                    return True\n",
    "\n",
    "                    if RAA == True and last == subproof_assumption.removeprefix(\"~\"):\n",
    "                        for x in p_before_penultimate:\n",
    "                            if type(x) is str:\n",
    "                                if subproof_conclusion == \"~\" + x or x == \"~\" + subproof_conclusion:\n",
    "                                    if Reit == False:\n",
    "                                        print(f\"{p} is a proof ending with RAA.\")\n",
    "                                    else:\n",
    "                                        print(f\"{p} is a proof ending with RAA given reiterables = {reiterables}.\")\n",
    "                                    return True\n",
    "\n",
    "                    # If the antepenultimate item in p is a subproof, then last could be obtained by v Elim\n",
    "                    antepenultimate = p_before_penultimate[-1]\n",
    "\n",
    "                    if type(antepenultimate) is list: \n",
    "\n",
    "                        p_before_antepenultimate = p_before_penultimate[:-1]\n",
    "                        prior_subproof_assumption = antepenultimate[0]\n",
    "                        prior_subproof_conclusion = antepenultimate[-1]\n",
    "\n",
    "                        if type(prior_subproof_assumption) is str and type(prior_subproof_conclusion) is str:\n",
    "                            for x in p_before_antepenultimate:\n",
    "                                if type(x) is str:\n",
    "                                    if x == \"(\" + prior_subproof_assumption + \"v\" + subproof_assumption + \")\":\n",
    "                                        if last == prior_subproof_conclusion and last == subproof_conclusion:\n",
    "                                            \n",
    "                                            if Reit == False:\n",
    "                                                print(f\"{p} is a proof ending with v Elim.\")\n",
    "                                            else:\n",
    "                                                print(f\"{p} is a proof ending with v Elim given reiterables = {reiterables}.\")\n",
    "\n",
    "                                            return True\n",
    "    if Reit == False:\n",
    "        print(f\"{p} is not a proof.\")\n",
    "    else:\n",
    "        print(f\"{p} is not a proof given reiterables {reiterables}.\")\n",
    "    \n",
    "    return False"
   ]
  },
  {
   "cell_type": "markdown",
   "id": "325087a1",
   "metadata": {},
   "source": [
    "# Examples"
   ]
  },
  {
   "cell_type": "code",
   "execution_count": 961,
   "id": "a6c0272c",
   "metadata": {},
   "outputs": [
    {
     "name": "stdout",
     "output_type": "stream",
     "text": [
      "['(p^q)'] is a proof with assumption = conclusion.\n",
      "['(p^q)', 'p'] is a proof ending with ^ Elim (left).\n",
      "['(p^q)', 'p', 'q'] is a proof ending with ^ Elim (right).\n",
      "['(p^q)', 'p', 'q', '(q^p)'] is a proof ending with ^ Intro.\n"
     ]
    }
   ],
   "source": [
    "proof(['(p ^ q)','p','q','(q ^ p)'])"
   ]
  },
  {
   "cell_type": "code",
   "execution_count": 962,
   "id": "bac90354",
   "metadata": {},
   "outputs": [
    {
     "name": "stdout",
     "output_type": "stream",
     "text": [
      "(q^p)) is not a well-formed formula.\n"
     ]
    }
   ],
   "source": [
    "proof(['(p ^ q)','p','q','(q ^ p))'])"
   ]
  },
  {
   "cell_type": "code",
   "execution_count": 963,
   "id": "0334962f",
   "metadata": {},
   "outputs": [
    {
     "name": "stdout",
     "output_type": "stream",
     "text": [
      "['((p^q)v(r^s))'] is a proof with assumption = conclusion.\n",
      "['(p^q)'] is a proof with assumption = conclusion.\n",
      "['(p^q)', 'p'] is a proof ending with ^ Elim (left).\n",
      "['(p^q)', 'p', '(pvr)'] is a proof ending with v Intro (right).\n",
      "['((p^q)v(r^s))', ['(p^q)', 'p', '(pvr)']] is a proof ending with a subproof.\n",
      "['(r^s)'] is a proof with assumption = conclusion.\n",
      "['(r^s)', 'r'] is a proof ending with ^ Elim (left).\n",
      "['(r^s)', 'r', '(pvr)'] is a proof ending with v Intro (left).\n",
      "['((p^q)v(r^s))', ['(p^q)', 'p', '(pvr)'], ['(r^s)', 'r', '(pvr)']] is a proof ending with a subproof.\n",
      "['((p^q)v(r^s))', ['(p^q)', 'p', '(pvr)'], ['(r^s)', 'r', '(pvr)'], '(pvr)'] is a proof ending with v Elim.\n"
     ]
    }
   ],
   "source": [
    "proof([\"((p ^ q) v (r ^ s))\", [\"(p ^ q)\", \"p\", \"(p v r)\"], [\"(r ^ s)\", \"r\", \"(p v r)\"], \"(p v r)\"])"
   ]
  },
  {
   "cell_type": "code",
   "execution_count": 964,
   "id": "ffddd4f8",
   "metadata": {},
   "outputs": [
    {
     "name": "stdout",
     "output_type": "stream",
     "text": [
      "['(p^(qvr))'] is a proof with assumption = conclusion.\n",
      "['(p^(qvr))', 'p'] is a proof ending with ^ Elim (left) given reiterables = [].\n",
      "['(p^(qvr))', 'p', '(qvr)'] is a proof ending with ^ Elim (right) given reiterables = [].\n",
      "['q'] is a proof with assumption = conclusion.\n",
      "['q', 'p'] is a proof ending with Reiteration given reiterables = ['(p^(qvr))', 'p', '(qvr)'].\n",
      "['q', 'p', '(p^q)'] is a proof ending with ^ Intro given reiterables = ['(p^(qvr))', 'p', '(qvr)']\n",
      "['q', 'p', '(p^q)', '((p^q)v(p^r))'] is a proof ending with v Intro (right) given reiterables = ['(p^(qvr))', 'p', '(qvr)'].\n",
      "['(p^(qvr))', 'p', '(qvr)', ['q', 'p', '(p^q)', '((p^q)v(p^r))']] is a proof ending with a subproof given reiterables = [].\n",
      "['r'] is a proof with assumption = conclusion.\n",
      "['r', 'p'] is a proof ending with Reiteration given reiterables = ['(p^(qvr))', 'p', '(qvr)'].\n",
      "['r', 'p', '(p^r)'] is a proof ending with ^ Intro given reiterables = ['(p^(qvr))', 'p', '(qvr)']\n",
      "['r', 'p', '(p^r)', '((p^q)v(p^r))'] is a proof ending with v Intro (left) given reiterables = ['(p^(qvr))', 'p', '(qvr)'].\n",
      "['(p^(qvr))', 'p', '(qvr)', ['q', 'p', '(p^q)', '((p^q)v(p^r))'], ['r', 'p', '(p^r)', '((p^q)v(p^r))']] is a proof ending with a subproof given reiterables = [].\n",
      "['(p^(qvr))', 'p', '(qvr)', ['q', 'p', '(p^q)', '((p^q)v(p^r))'], ['r', 'p', '(p^r)', '((p^q)v(p^r))'], '((p^q)v(p^r))'] is a proof ending with v Elim given reiterables = [].\n"
     ]
    }
   ],
   "source": [
    "# A proof of distributivity in intuitionistic logic using reiteration\n",
    "proof([\"(p ^ (q v r))\", \"p\", \"(q v r)\", [\"q\", \"p\", \"(p ^ q)\", \"((p ^ q) v (p ^ r))\"], [\"r\", \"p\", \"(p ^ r)\", \"((p ^ q) v (p ^ r))\"], \"((p ^ q) v (p ^ r))\"], Reit = True)"
   ]
  },
  {
   "cell_type": "code",
   "execution_count": 965,
   "id": "25400446",
   "metadata": {},
   "outputs": [
    {
     "name": "stdout",
     "output_type": "stream",
     "text": [
      "['(p^(qvr))'] is a proof with assumption = conclusion.\n",
      "['(p^(qvr))', 'p'] is a proof ending with ^ Elim (left).\n",
      "['(p^(qvr))', 'p', '(qvr)'] is a proof ending with ^ Elim (right).\n",
      "['q'] is a proof with assumption = conclusion.\n",
      "['q', 'p'] is not a proof.\n",
      "['q', 'p', '(p^q)'] is not a proof.\n",
      "['q', 'p', '(p^q)', '((p^q)v(p^r))'] is not a proof.\n",
      "['(p^(qvr))', 'p', '(qvr)', ['q', 'p', '(p^q)', '((p^q)v(p^r))']] is not a proof.\n",
      "['(p^(qvr))', 'p', '(qvr)', ['q', 'p', '(p^q)', '((p^q)v(p^r))'], ['r', 'p', '(p^r)', '((p^q)v(p^r))']] is not a proof.\n",
      "['(p^(qvr))', 'p', '(qvr)', ['q', 'p', '(p^q)', '((p^q)v(p^r))'], ['r', 'p', '(p^r)', '((p^q)v(p^r))'], '((p^q)v(p^r))'] is not a proof.\n"
     ]
    }
   ],
   "source": [
    "# The intuitionistic proof above is not a proof in the fundamental logic\n",
    "proof([\"(p ^ (q v r))\", \"p\", \"(q v r)\", [\"q\", \"p\", \"(p ^ q)\", \"((p ^ q) v (p ^ r))\"], [\"r\", \"p\", \"(p ^ r)\", \"((p ^ q) v (p ^ r))\"], \"((p ^ q) v (p ^ r))\"])"
   ]
  },
  {
   "cell_type": "code",
   "execution_count": 966,
   "id": "39cf5ecc",
   "metadata": {},
   "outputs": [
    {
     "name": "stdout",
     "output_type": "stream",
     "text": [
      "['(pvq)'] is a proof with assumption = conclusion.\n",
      "['p'] is a proof with assumption = conclusion.\n",
      "['(pvq)', ['p']] is a proof ending with a subproof given reiterables = [].\n",
      "['q'] is a proof with assumption = conclusion.\n",
      "['q', 'p'] is not a proof given reiterables ['(pvq)'].\n",
      "['(pvq)', ['p'], ['q', 'p']] is not a proof given reiterables [].\n",
      "['(pvq)', ['p'], ['q', 'p'], 'p'] is not a proof given reiterables = [].\n"
     ]
    }
   ],
   "source": [
    "# An incorrect attempt to reiterate from one subproof to another\n",
    "proof([\"(p v q)\", [\"p\"], [\"q\",\"p\"], \"p\"], Reit = True)"
   ]
  },
  {
   "cell_type": "code",
   "execution_count": 967,
   "id": "31eab23a",
   "metadata": {},
   "outputs": [
    {
     "name": "stdout",
     "output_type": "stream",
     "text": [
      "['~p'] is a proof with assumption = conclusion.\n",
      "['(p^q)'] is a proof with assumption = conclusion.\n",
      "['(p^q)', 'p'] is a proof ending with ^ Elim (left).\n",
      "['~p', ['(p^q)', 'p']] is a proof ending with a subproof.\n",
      "['~p', ['(p^q)', 'p'], '~(p^q)'] is a proof ending with ~ Intro.\n"
     ]
    }
   ],
   "source": [
    "# ~ is antitone\n",
    "proof([\"~p\", [\"(p ^ q)\", \"p\"], \"~(p ^ q)\"])"
   ]
  },
  {
   "cell_type": "code",
   "execution_count": 968,
   "id": "3c82fc9b",
   "metadata": {},
   "outputs": [
    {
     "name": "stdout",
     "output_type": "stream",
     "text": [
      "['(p^~p)'] is a proof with assumption = conclusion.\n",
      "['(p^~p)', 'p'] is a proof ending with ^ Elim (left).\n",
      "['(p^~p)', 'p', '~p'] is a proof ending with ^ Elim (right).\n",
      "['(p^~p)', 'p', '~p', 'q'] is a proof ending with ~ Elim.\n"
     ]
    }
   ],
   "source": [
    "# ~ is a semicomplementation\n",
    "proof([\"(p ^ ~p)\", \"p\", \"~p\", \"q\"])"
   ]
  },
  {
   "cell_type": "code",
   "execution_count": 969,
   "id": "8359b398",
   "metadata": {},
   "outputs": [
    {
     "name": "stdout",
     "output_type": "stream",
     "text": [
      "['(p^~p)'] is a proof with assumption = conclusion.\n",
      "['(p^~p)', 'p'] is a proof ending with ^ Elim (left).\n",
      "['(p^~p)', 'p', '~p'] is a proof ending with ^ Elim (right).\n",
      "['(p^~p)', 'p', '~p', 'q'] is not a proof.\n"
     ]
    }
   ],
   "source": [
    "proof([\"(p ^ ~p)\", \"p\", \"~p\", \"q\"], Explosion = False)"
   ]
  },
  {
   "cell_type": "code",
   "execution_count": 970,
   "id": "a9c56176",
   "metadata": {},
   "outputs": [
    {
     "name": "stdout",
     "output_type": "stream",
     "text": [
      "['p'] is a proof with assumption = conclusion.\n",
      "['~p'] is a proof with assumption = conclusion.\n",
      "['p', ['~p']] is a proof ending with a subproof.\n",
      "['p', ['~p'], '~~p'] is a proof ending with ~ Intro.\n"
     ]
    }
   ],
   "source": [
    "# Double negation introduction\n",
    "proof([\"p\", [\"~p\"], \"~~p\"])"
   ]
  },
  {
   "cell_type": "code",
   "execution_count": 971,
   "id": "4c1dc367",
   "metadata": {},
   "outputs": [
    {
     "name": "stdout",
     "output_type": "stream",
     "text": [
      "['~~p'] is a proof with assumption = conclusion.\n",
      "['~p'] is a proof with assumption = conclusion.\n",
      "['~~p', ['~p']] is a proof ending with a subproof.\n",
      "['~~p', ['~p'], 'p'] is a proof ending with RAA.\n"
     ]
    }
   ],
   "source": [
    "# Double negation elimination using Reductio\n",
    "proof([\"~~p\", [\"~p\"], \"p\"], RAA = True)"
   ]
  },
  {
   "cell_type": "code",
   "execution_count": 972,
   "id": "7eedb3f1",
   "metadata": {},
   "outputs": [
    {
     "name": "stdout",
     "output_type": "stream",
     "text": [
      "['~~p'] is a proof with assumption = conclusion.\n",
      "['~p'] is a proof with assumption = conclusion.\n",
      "['~~p', ['~p']] is a proof ending with a subproof.\n",
      "['~~p', ['~p'], 'p'] is not a proof.\n"
     ]
    }
   ],
   "source": [
    "proof([\"~~p\", [\"~p\"], \"p\"])"
   ]
  }
 ],
 "metadata": {
  "kernelspec": {
   "display_name": "Python 3.9.9 64-bit",
   "language": "python",
   "name": "python3"
  },
  "language_info": {
   "codemirror_mode": {
    "name": "ipython",
    "version": 3
   },
   "file_extension": ".py",
   "mimetype": "text/x-python",
   "name": "python",
   "nbconvert_exporter": "python",
   "pygments_lexer": "ipython3",
   "version": "3.9.9"
  },
  "vscode": {
   "interpreter": {
    "hash": "b0fa6594d8f4cbf19f97940f81e996739fb7646882a419484c72d19e05852a7e"
   }
  }
 },
 "nbformat": 4,
 "nbformat_minor": 5
}
