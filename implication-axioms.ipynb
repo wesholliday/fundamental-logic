{
 "cells": [
  {
   "cell_type": "markdown",
   "id": "83e29e3e",
   "metadata": {},
   "source": [
    "This notebook is associated with the Appendix of the paper [\"A fundamental non-classical logic\"](https://arxiv.org/abs/2207.06993) by [Wesley H. Holliday](mailto:wesholliday@berkeley.edu).\n",
    "\n",
    "The notebook uses the [Natural Language Toolkit](https://www.nltk.org)'s [interface](https://www.nltk.org/howto/inference.html) to [Prover9/Mace4](https://www.cs.unm.edu/~mccune/prover9/) to verify basic facts about the kinds of implications discussed in the Appendix of the paper.\n",
    "\n",
    "To view the notebook online, type the URL of this notebook (https://github.com/wesholliday/fundamental-logic/blob/main/implication-axioms.ipynb) into the location field at https://nbviewer.org. GitHub's preview of the notebook might not show all the output that was generated."
   ]
  },
  {
   "cell_type": "markdown",
   "id": "f8ed1561",
   "metadata": {},
   "source": [
    "## Outline\n",
    "\n",
    "**1. [Lattice axioms](#1)**\n",
    "\n",
    "**2. [Bounded lattice axioms](#2)**\n",
    "\n",
    "**3. [Implication axioms](#3)**"
   ]
  },
  {
   "cell_type": "code",
   "execution_count": 56,
   "id": "58c12193",
   "metadata": {},
   "outputs": [],
   "source": [
    "from nltk.test.inference_fixt import setup_module \n",
    "\n",
    "setup_module()\n",
    "\n",
    "from nltk import *\n",
    "from nltk.sem.drt import DrtParser\n",
    "from nltk.sem import logic\n",
    "logic._counter._value = 0\n",
    "\n",
    "from nltk.sem import Expression\n",
    "read_expr = Expression.fromstring"
   ]
  },
  {
   "cell_type": "markdown",
   "id": "b0491d4d",
   "metadata": {},
   "source": [
    "## 1. Lattice axioms<a id='1'></a>"
   ]
  },
  {
   "cell_type": "code",
   "execution_count": 57,
   "id": "3b98ed66",
   "metadata": {},
   "outputs": [],
   "source": [
    "or_id = read_expr('Or(x,x) = x')\n",
    "and_id = read_expr('And(x,x) = x')\n",
    "\n",
    "or_comm = read_expr('Or(x,y) = Or(y,x)')\n",
    "and_comm = read_expr('And(x,y) = And(y,x)')\n",
    "\n",
    "or_assoc = read_expr('Or(x,Or(y,z)) = Or(Or(x,y),z)')\n",
    "and_assoc = read_expr('And(x,And(y,z)) = And(And(x,y),z)')\n",
    "\n",
    "or_absorp = read_expr('Or(x,And(x,y)) = x')\n",
    "and_absorp = read_expr('And(x,Or(x,y)) = x')\n",
    "\n",
    "lattice = [or_id, and_id, or_comm, and_comm, or_assoc, and_assoc, or_absorp, and_absorp]"
   ]
  },
  {
   "cell_type": "code",
   "execution_count": 58,
   "id": "4d4e00d4",
   "metadata": {},
   "outputs": [],
   "source": [
    "#By including a definition of the covering relation,\n",
    "#one can quickly read off Hasse diagrams of lattices from the Mace4 output.\n",
    "cover_def = read_expr('covered_by(x,y) <-> (-(x=y) & x = And(x,y) & -exists z.(-(z=x) & -(z=y) & x = And(x,z) & z = And(z,y)))')"
   ]
  },
  {
   "cell_type": "markdown",
   "id": "7910f045",
   "metadata": {},
   "source": [
    "## 2. Bounded lattice axioms<a id='2'></a>"
   ]
  },
  {
   "cell_type": "code",
   "execution_count": 59,
   "id": "8eed2883",
   "metadata": {},
   "outputs": [],
   "source": [
    "bot = read_expr('Or(x,Bot) = x')\n",
    "top = read_expr('And(x,Top) = x')\n",
    "\n",
    "bounded_lattice = lattice + [bot,top]"
   ]
  },
  {
   "cell_type": "markdown",
   "id": "a4e567b9",
   "metadata": {},
   "source": [
    "## 3. Implication axioms<a id='3'></a>"
   ]
  },
  {
   "cell_type": "markdown",
   "id": "3fd3ba9d",
   "metadata": {},
   "source": [
    "## Preimplications"
   ]
  },
  {
   "cell_type": "code",
   "execution_count": 60,
   "id": "b031fbf4",
   "metadata": {},
   "outputs": [],
   "source": [
    "preimp1_left_to_right = read_expr('x = And(x,If(Top,x))')\n",
    "preimp1_right_to_left = read_expr('If(Top,x) = And(If(Top,x),x)')\n",
    "preimp2 = read_expr('If(x,If(x,y)) = And(If(x,If(x,y)), If(x,y))')\n",
    "preimp3 = read_expr('x = And(x,y) -> If(y,z) = And(If(y,z), If(x,z))')\n",
    "preimp4 = read_expr('x = And(x,y) -> If(z,x) = And(If(z,x), If(z,y))')\n",
    "\n",
    "preimp = [preimp1_left_to_right, preimp1_right_to_left, preimp2, preimp3, preimp4]"
   ]
  },
  {
   "cell_type": "code",
   "execution_count": 61,
   "id": "fae560c0",
   "metadata": {},
   "outputs": [
    {
     "name": "stdout",
     "output_type": "stream",
     "text": [
      "Independence of (x = And(x,If(Top,x))): \n",
      "\n",
      "% number = 1\n",
      "% seconds = 0\n",
      "\n",
      "% Interpretation of size 2\n",
      "\n",
      "Bot = 0.\n",
      "\n",
      "Top = 1.\n",
      "\n",
      "c1 = 1.\n",
      "\n",
      "And(0,0) = 0.\n",
      "And(0,1) = 0.\n",
      "And(1,0) = 0.\n",
      "And(1,1) = 1.\n",
      "\n",
      "If(0,0) = 0.\n",
      "If(0,1) = 0.\n",
      "If(1,0) = 0.\n",
      "If(1,1) = 0.\n",
      "\n",
      "Or(0,0) = 0.\n",
      "Or(0,1) = 1.\n",
      "Or(1,0) = 1.\n",
      "Or(1,1) = 1.\n",
      "\n",
      "Independence of (If(Top,x) = And(If(Top,x),x)): \n",
      "\n",
      "% number = 1\n",
      "% seconds = 0\n",
      "\n",
      "% Interpretation of size 2\n",
      "\n",
      "Bot = 0.\n",
      "\n",
      "Top = 1.\n",
      "\n",
      "c1 = 0.\n",
      "\n",
      "And(0,0) = 0.\n",
      "And(0,1) = 0.\n",
      "And(1,0) = 0.\n",
      "And(1,1) = 1.\n",
      "\n",
      "If(0,0) = 1.\n",
      "If(0,1) = 1.\n",
      "If(1,0) = 1.\n",
      "If(1,1) = 1.\n",
      "\n",
      "Or(0,0) = 0.\n",
      "Or(0,1) = 1.\n",
      "Or(1,0) = 1.\n",
      "Or(1,1) = 1.\n",
      "\n",
      "Independence of (If(x,If(x,y)) = And(If(x,If(x,y)),If(x,y))): \n",
      "\n",
      "% number = 1\n",
      "% seconds = 0\n",
      "\n",
      "% Interpretation of size 3\n",
      "\n",
      "Bot = 0.\n",
      "\n",
      "Top = 1.\n",
      "\n",
      "c1 = 0.\n",
      "\n",
      "c2 = 0.\n",
      "\n",
      "And(0,0) = 0.\n",
      "And(0,1) = 0.\n",
      "And(0,2) = 0.\n",
      "And(1,0) = 0.\n",
      "And(1,1) = 1.\n",
      "And(1,2) = 2.\n",
      "And(2,0) = 0.\n",
      "And(2,1) = 2.\n",
      "And(2,2) = 2.\n",
      "\n",
      "If(0,0) = 2.\n",
      "If(0,1) = 1.\n",
      "If(0,2) = 1.\n",
      "If(1,0) = 0.\n",
      "If(1,1) = 1.\n",
      "If(1,2) = 2.\n",
      "If(2,0) = 0.\n",
      "If(2,1) = 1.\n",
      "If(2,2) = 1.\n",
      "\n",
      "Or(0,0) = 0.\n",
      "Or(0,1) = 1.\n",
      "Or(0,2) = 2.\n",
      "Or(1,0) = 1.\n",
      "Or(1,1) = 1.\n",
      "Or(1,2) = 1.\n",
      "Or(2,0) = 2.\n",
      "Or(2,1) = 1.\n",
      "Or(2,2) = 2.\n",
      "\n",
      "Independence of ((x = And(x,y)) -> (If(y,z) = And(If(y,z),If(x,z)))): \n",
      "\n",
      "% number = 1\n",
      "% seconds = 0\n",
      "\n",
      "% Interpretation of size 2\n",
      "\n",
      "Bot = 0.\n",
      "\n",
      "Top = 1.\n",
      "\n",
      "c1 = 0.\n",
      "\n",
      "c2 = 1.\n",
      "\n",
      "c3 = 1.\n",
      "\n",
      "And(0,0) = 0.\n",
      "And(0,1) = 0.\n",
      "And(1,0) = 0.\n",
      "And(1,1) = 1.\n",
      "\n",
      "If(0,0) = 0.\n",
      "If(0,1) = 0.\n",
      "If(1,0) = 0.\n",
      "If(1,1) = 1.\n",
      "\n",
      "Or(0,0) = 0.\n",
      "Or(0,1) = 1.\n",
      "Or(1,0) = 1.\n",
      "Or(1,1) = 1.\n",
      "\n",
      "Independence of ((x = And(x,y)) -> (If(z,x) = And(If(z,x),If(z,y)))): \n",
      "\n",
      "% number = 1\n",
      "% seconds = 0\n",
      "\n",
      "% Interpretation of size 3\n",
      "\n",
      "Bot = 0.\n",
      "\n",
      "Top = 1.\n",
      "\n",
      "c1 = 0.\n",
      "\n",
      "c2 = 2.\n",
      "\n",
      "c3 = 2.\n",
      "\n",
      "And(0,0) = 0.\n",
      "And(0,1) = 0.\n",
      "And(0,2) = 0.\n",
      "And(1,0) = 0.\n",
      "And(1,1) = 1.\n",
      "And(1,2) = 2.\n",
      "And(2,0) = 0.\n",
      "And(2,1) = 2.\n",
      "And(2,2) = 2.\n",
      "\n",
      "If(0,0) = 1.\n",
      "If(0,1) = 1.\n",
      "If(0,2) = 1.\n",
      "If(1,0) = 0.\n",
      "If(1,1) = 1.\n",
      "If(1,2) = 2.\n",
      "If(2,0) = 1.\n",
      "If(2,1) = 1.\n",
      "If(2,2) = 2.\n",
      "\n",
      "Or(0,0) = 0.\n",
      "Or(0,1) = 1.\n",
      "Or(0,2) = 2.\n",
      "Or(1,0) = 1.\n",
      "Or(1,1) = 1.\n",
      "Or(1,2) = 1.\n",
      "Or(2,0) = 2.\n",
      "Or(2,1) = 1.\n",
      "Or(2,2) = 2.\n",
      "\n"
     ]
    }
   ],
   "source": [
    "#Verify that the preimplication axioms are independent\n",
    "\n",
    "for ax in preimp:\n",
    "    print(f\"Independence of {ax}: \\n\")\n",
    "    goal = ax\n",
    "    mb = MaceCommand(goal, assumptions = bounded_lattice + [axiom for axiom in preimp if not axiom == ax])\n",
    "    mb.build_model()\n",
    "    print(mb.model(format='cooked'))"
   ]
  },
  {
   "cell_type": "markdown",
   "id": "f13003c4",
   "metadata": {},
   "source": [
    "## Protoimplications"
   ]
  },
  {
   "cell_type": "code",
   "execution_count": 62,
   "id": "c8d32244",
   "metadata": {},
   "outputs": [],
   "source": [
    "identity = read_expr('If(x,x)=Top')\n",
    "modus_ponens = read_expr('And(x,If(x,y))= And(And(x,If(x,y)),y)')\n",
    "\n",
    "protoimp = preimp + [identity,modus_ponens]"
   ]
  },
  {
   "cell_type": "code",
   "execution_count": 63,
   "id": "72f75925",
   "metadata": {},
   "outputs": [
    {
     "name": "stdout",
     "output_type": "stream",
     "text": [
      "% number = 1\n",
      "% seconds = 0\n",
      "\n",
      "% Interpretation of size 2\n",
      "\n",
      "Bot = 0.\n",
      "\n",
      "Top = 1.\n",
      "\n",
      "c1 = 0.\n",
      "\n",
      "And(0,0) = 0.\n",
      "And(0,1) = 0.\n",
      "And(1,0) = 0.\n",
      "And(1,1) = 1.\n",
      "\n",
      "If(0,0) = 0.\n",
      "If(0,1) = 1.\n",
      "If(1,0) = 0.\n",
      "If(1,1) = 1.\n",
      "\n",
      "Or(0,0) = 0.\n",
      "Or(0,1) = 1.\n",
      "Or(1,0) = 1.\n",
      "Or(1,1) = 1.\n",
      "\n"
     ]
    }
   ],
   "source": [
    "#Verify that the identity axiom does not already follow from preimplication axioms\n",
    "\n",
    "goal = identity\n",
    "mb = MaceCommand(goal, assumptions = bounded_lattice + preimp + [modus_ponens])\n",
    "mb.build_model()\n",
    "print(mb.model(format='cooked'))"
   ]
  },
  {
   "cell_type": "code",
   "execution_count": 64,
   "id": "27a1c4f4",
   "metadata": {},
   "outputs": [
    {
     "name": "stdout",
     "output_type": "stream",
     "text": [
      "% number = 1\n",
      "% seconds = 0\n",
      "\n",
      "% Interpretation of size 3\n",
      "\n",
      "Bot = 0.\n",
      "\n",
      "Top = 1.\n",
      "\n",
      "c1 = 2.\n",
      "\n",
      "c2 = 0.\n",
      "\n",
      "And(0,0) = 0.\n",
      "And(0,1) = 0.\n",
      "And(0,2) = 0.\n",
      "And(1,0) = 0.\n",
      "And(1,1) = 1.\n",
      "And(1,2) = 2.\n",
      "And(2,0) = 0.\n",
      "And(2,1) = 2.\n",
      "And(2,2) = 2.\n",
      "\n",
      "If(0,0) = 1.\n",
      "If(0,1) = 1.\n",
      "If(0,2) = 1.\n",
      "If(1,0) = 0.\n",
      "If(1,1) = 1.\n",
      "If(1,2) = 2.\n",
      "If(2,0) = 1.\n",
      "If(2,1) = 1.\n",
      "If(2,2) = 1.\n",
      "\n",
      "Or(0,0) = 0.\n",
      "Or(0,1) = 1.\n",
      "Or(0,2) = 2.\n",
      "Or(1,0) = 1.\n",
      "Or(1,1) = 1.\n",
      "Or(1,2) = 1.\n",
      "Or(2,0) = 2.\n",
      "Or(2,1) = 1.\n",
      "Or(2,2) = 2.\n",
      "\n"
     ]
    }
   ],
   "source": [
    "#Verify that modus ponens does not already follow from preimplication axioms\n",
    "\n",
    "goal = modus_ponens\n",
    "mb = MaceCommand(goal, assumptions = bounded_lattice + preimp + [identity])\n",
    "mb.build_model()\n",
    "print(mb.model(format='cooked'))"
   ]
  },
  {
   "cell_type": "markdown",
   "id": "82b75a3f",
   "metadata": {},
   "source": [
    "## Ultraweak pseudoimplications"
   ]
  },
  {
   "cell_type": "code",
   "execution_count": 65,
   "id": "5267bacd",
   "metadata": {},
   "outputs": [],
   "source": [
    "ultraweak_pseudo_ax = read_expr('x = And(x, If(If(x,y), y))')\n",
    "ultraweak_pseudo_ax_equiv = read_expr('x=And(x,If(z,y)) -> z=And(z,If(x,y))')\n",
    "\n",
    "ultraweak_pseudo = preimp + [ultraweak_pseudo_ax]"
   ]
  },
  {
   "cell_type": "code",
   "execution_count": 66,
   "id": "feb03ae3",
   "metadata": {},
   "outputs": [
    {
     "name": "stdout",
     "output_type": "stream",
     "text": [
      "============================== prooftrans ============================\n",
      "Prover9 (64) version 2009-11A, November 2009.\n",
      "Process 38439 was started by halcrow on iMac.local,\n",
      "Sun Jul 17 09:26:08 2022\n",
      "The command was \"/usr/local/bin/prover9/prover9\".\n",
      "============================== end of head ===========================\n",
      "\n",
      "============================== end of input ==========================\n",
      "\n",
      "============================== PROOF =================================\n",
      "\n",
      "% -------- Comments from original proof --------\n",
      "% Proof 1 at 0.11 (+ 0.01) seconds.\n",
      "% Length of proof is 16.\n",
      "% Level of proof is 5.\n",
      "% Maximum clause weight is 16.000.\n",
      "% Given clauses 223.\n",
      "\n",
      "\n",
      "1 x = And(x,y) -> If(y,z) = And(If(y,z),If(x,z)).  [assumption].\n",
      "3 x = And(x,If(y,z)) -> y = And(y,If(x,z)).  [goal].\n",
      "7 And(x,y) = And(y,x).  [assumption].\n",
      "10 And(x,And(y,z)) = And(And(x,y),z).  [assumption].\n",
      "11 And(And(x,y),z) = And(x,And(y,z)).  [copy(10),flip(a)].\n",
      "22 And(x,y) != x | If(y,z) = And(If(y,z),If(x,z)).  [clausify(1)].\n",
      "23 And(x,y) != x | And(If(y,z),If(x,z)) = If(y,z).  [copy(22),flip(b)].\n",
      "26 x = And(x,If(If(x,y),y)).  [assumption].\n",
      "27 And(x,If(If(x,y),y)) = x.  [copy(26),flip(a)].\n",
      "28 And(c1,If(c2,c3)) = c1.  [deny(3)].\n",
      "29 And(c2,If(c1,c3)) != c2.  [deny(3)].\n",
      "39 And(x,And(y,z)) = And(y,And(x,z)).  [para(7(a,1),11(a,1,1)),rewrite([11(2)])].\n",
      "68 And(If(c1,x),If(If(c2,c3),x)) = If(If(c2,c3),x).  [hyper(23,a,28,a),rewrite([7(7)])].\n",
      "124 And(x,And(y,If(If(x,z),z))) = And(y,x).  [para(27(a,1),39(a,1,2)),flip(a)].\n",
      "4159 And(c2,If(c1,c3)) = c2.  [para(68(a,1),124(a,1,2)),rewrite([27(7),7(6)]),flip(a)].\n",
      "4160 $F.  [resolve(4159,a,29,a)].\n",
      "\n",
      "============================== end of proof ==========================\n"
     ]
    }
   ],
   "source": [
    "# Verify Lemma A.5 from 1 to 2\n",
    "\n",
    "goal = ultraweak_pseudo_ax_equiv\n",
    "prover = Prover9Command(goal, assumptions = bounded_lattice + preimp + [ultraweak_pseudo_ax])\n",
    "prover.prove()\n",
    "print(prover.proof())"
   ]
  },
  {
   "cell_type": "code",
   "execution_count": 67,
   "id": "5cd5fd48",
   "metadata": {},
   "outputs": [
    {
     "name": "stdout",
     "output_type": "stream",
     "text": [
      "============================== prooftrans ============================\n",
      "Prover9 (64) version 2009-11A, November 2009.\n",
      "Process 38441 was started by halcrow on iMac.local,\n",
      "Sun Jul 17 09:26:08 2022\n",
      "The command was \"/usr/local/bin/prover9/prover9\".\n",
      "============================== end of head ===========================\n",
      "\n",
      "============================== end of input ==========================\n",
      "\n",
      "============================== PROOF =================================\n",
      "\n",
      "% -------- Comments from original proof --------\n",
      "% Proof 1 at 0.00 (+ 0.00) seconds.\n",
      "% Length of proof is 7.\n",
      "% Level of proof is 3.\n",
      "% Maximum clause weight is 14.000.\n",
      "% Given clauses 15.\n",
      "\n",
      "\n",
      "3 x = And(x,If(y,z)) -> y = And(y,If(x,z)).  [assumption].\n",
      "4 x = And(x,If(If(x,y),y)).  [goal].\n",
      "6 And(x,x) = x.  [assumption].\n",
      "27 And(x,If(y,z)) != x | And(y,If(x,z)) = y.  [clausify(3)].\n",
      "28 And(c1,If(If(c1,c2),c2)) != c1.  [deny(4)].\n",
      "61 And(x,If(If(x,y),y)) = x.  [hyper(27,a,6,a)].\n",
      "62 $F.  [resolve(61,a,28,a)].\n",
      "\n",
      "============================== end of proof ==========================\n"
     ]
    }
   ],
   "source": [
    "# Verify Lemma A.5 from 2 to 1\n",
    "\n",
    "goal = ultraweak_pseudo_ax\n",
    "prover = Prover9Command(goal, assumptions = bounded_lattice + preimp + [ultraweak_pseudo_ax_equiv])\n",
    "prover.prove()\n",
    "print(prover.proof())"
   ]
  },
  {
   "cell_type": "code",
   "execution_count": 68,
   "id": "c3ef351c",
   "metadata": {},
   "outputs": [
    {
     "name": "stdout",
     "output_type": "stream",
     "text": [
      "% number = 1\n",
      "% seconds = 0\n",
      "\n",
      "% Interpretation of size 2\n",
      "\n",
      "Bot = 0.\n",
      "\n",
      "Top = 1.\n",
      "\n",
      "c1 = 1.\n",
      "\n",
      "c2 = 0.\n",
      "\n",
      "And(0,0) = 0.\n",
      "And(0,1) = 0.\n",
      "And(1,0) = 0.\n",
      "And(1,1) = 1.\n",
      "\n",
      "If(0,0) = 0.\n",
      "If(0,1) = 1.\n",
      "If(1,0) = 0.\n",
      "If(1,1) = 1.\n",
      "\n",
      "Or(0,0) = 0.\n",
      "Or(0,1) = 1.\n",
      "Or(1,0) = 1.\n",
      "Or(1,1) = 1.\n",
      "\n"
     ]
    }
   ],
   "source": [
    "#Verify that the ultraweak pseudo axiom does not already follow from the preimplication axioms\n",
    "\n",
    "goal = ultraweak_pseudo_ax\n",
    "mb = MaceCommand(goal, assumptions = bounded_lattice + preimp)\n",
    "mb.build_model()\n",
    "print(mb.model(format='cooked'))"
   ]
  },
  {
   "cell_type": "markdown",
   "id": "306fcd33",
   "metadata": {},
   "source": [
    "## Weak pseudoimplications"
   ]
  },
  {
   "cell_type": "code",
   "execution_count": 69,
   "id": "b2222935",
   "metadata": {},
   "outputs": [],
   "source": [
    "weak_pseudoimp = protoimp + [ultraweak_pseudo_ax]"
   ]
  },
  {
   "cell_type": "code",
   "execution_count": 70,
   "id": "4e764491",
   "metadata": {},
   "outputs": [],
   "source": [
    "relative_pseudo_left_to_right = read_expr('And(x,y)=And(And(x,y),z) -> x=And(x,If(y,z))')"
   ]
  },
  {
   "cell_type": "code",
   "execution_count": 71,
   "id": "15288ad4",
   "metadata": {},
   "outputs": [
    {
     "name": "stdout",
     "output_type": "stream",
     "text": [
      "% number = 1\n",
      "% seconds = 0\n",
      "\n",
      "% Interpretation of size 3\n",
      "\n",
      "Top = 0.\n",
      "\n",
      "c1 = 0.\n",
      "\n",
      "c2 = 1.\n",
      "\n",
      "c3 = 2.\n",
      "\n",
      "And(0,0) = 0.\n",
      "And(0,1) = 2.\n",
      "And(0,2) = 2.\n",
      "And(1,0) = 1.\n",
      "And(1,1) = 1.\n",
      "And(1,2) = 2.\n",
      "And(2,0) = 2.\n",
      "And(2,1) = 2.\n",
      "And(2,2) = 2.\n",
      "\n",
      "If(0,0) = 0.\n",
      "If(0,1) = 1.\n",
      "If(0,2) = 2.\n",
      "If(1,0) = 0.\n",
      "If(1,1) = 0.\n",
      "If(1,2) = 2.\n",
      "If(2,0) = 0.\n",
      "If(2,1) = 0.\n",
      "If(2,2) = 0.\n",
      "\n"
     ]
    }
   ],
   "source": [
    "#Verify that the left-to-right direction of the relative pseudocomplementation principle \n",
    "#does not follow from the weak pseudoimplication axioms\n",
    "\n",
    "goal = relative_pseudo_left_to_right\n",
    "mb = MaceCommand(goal, assumptions = weak_pseudoimp)\n",
    "mb.build_model()\n",
    "print(mb.model(format='cooked'))"
   ]
  }
 ],
 "metadata": {
  "kernelspec": {
   "display_name": "Python 3.9.9 64-bit",
   "language": "python",
   "name": "python3"
  },
  "language_info": {
   "codemirror_mode": {
    "name": "ipython",
    "version": 3
   },
   "file_extension": ".py",
   "mimetype": "text/x-python",
   "name": "python",
   "nbconvert_exporter": "python",
   "pygments_lexer": "ipython3",
   "version": "3.9.9"
  },
  "vscode": {
   "interpreter": {
    "hash": "b0fa6594d8f4cbf19f97940f81e996739fb7646882a419484c72d19e05852a7e"
   }
  }
 },
 "nbformat": 4,
 "nbformat_minor": 5
}
